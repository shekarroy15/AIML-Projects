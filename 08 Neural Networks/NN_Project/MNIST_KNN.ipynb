{
 "cells": [
  {
   "cell_type": "code",
   "execution_count": 1,
   "metadata": {},
   "outputs": [],
   "source": [
    "import numpy as np\n",
    "np.seterr(over='ignore')\n",
    "import os\n",
    "os.environ[\"TF_CPP_MIN_LOG_LEVEL\"]=\"3\""
   ]
  },
  {
   "cell_type": "code",
   "execution_count": 2,
   "metadata": {},
   "outputs": [
    {
     "name": "stderr",
     "output_type": "stream",
     "text": [
      "Using TensorFlow backend.\n"
     ]
    }
   ],
   "source": [
    "from keras.datasets import mnist"
   ]
  },
  {
   "cell_type": "code",
   "execution_count": 3,
   "metadata": {},
   "outputs": [
    {
     "name": "stdout",
     "output_type": "stream",
     "text": [
      "Downloading data from https://s3.amazonaws.com/img-datasets/mnist.npz\n",
      "11493376/11490434 [==============================] - 207s 18us/step\n"
     ]
    }
   ],
   "source": [
    "(x_train, y_train), (x_test, y_test) = mnist.load_data() "
   ]
  },
  {
   "cell_type": "code",
   "execution_count": 4,
   "metadata": {},
   "outputs": [
    {
     "data": {
      "text/plain": [
       "<Figure size 800x800 with 100 Axes>"
      ]
     },
     "metadata": {},
     "output_type": "display_data"
    }
   ],
   "source": [
    "import matplotlib.pyplot as plt\n",
    "w=10\n",
    "h=10\n",
    "fig=plt.figure(figsize=(8, 8))\n",
    "columns = 10\n",
    "rows = 10\n",
    "for i in range(1, columns*rows +1):\n",
    "    img = x_test[i]\n",
    "    fig.add_subplot(rows, columns, i)\n",
    "    plt.imshow(img, cmap='gray')\n",
    "plt.show()"
   ]
  },
  {
   "cell_type": "code",
   "execution_count": 5,
   "metadata": {},
   "outputs": [
    {
     "name": "stdout",
     "output_type": "stream",
     "text": [
      "(60000, 28, 28)\n",
      "(60000,)\n"
     ]
    }
   ],
   "source": [
    "print(x_train.shape)\n",
    "print(y_train.shape)"
   ]
  },
  {
   "cell_type": "code",
   "execution_count": 6,
   "metadata": {},
   "outputs": [
    {
     "name": "stdout",
     "output_type": "stream",
     "text": [
      "(10000, 28, 28)\n",
      "(10000,)\n"
     ]
    }
   ],
   "source": [
    "print(x_test.shape)\n",
    "print(y_test.shape)"
   ]
  },
  {
   "cell_type": "code",
   "execution_count": 7,
   "metadata": {},
   "outputs": [],
   "source": [
    "# Changing dimensions to N x D = 28x28\n",
    "# Number of samples you want in training data. 60,000 is max.\n",
    "N = 50000\n",
    "x_tr = []\n",
    "for i in range(N):\n",
    "    x_tr.append(x_train[i,:].flatten())\n",
    "x_te = []\n",
    "for i in range(10000):\n",
    "    x_te.append(x_test[i,:].flatten())"
   ]
  },
  {
   "cell_type": "code",
   "execution_count": 8,
   "metadata": {},
   "outputs": [
    {
     "name": "stdout",
     "output_type": "stream",
     "text": [
      "50000 784\n",
      "10000 784\n"
     ]
    }
   ],
   "source": [
    "print(len(x_tr),len(x_tr[0]))\n",
    "print(len(x_te),len(x_te[0]))"
   ]
  },
  {
   "cell_type": "code",
   "execution_count": 9,
   "metadata": {},
   "outputs": [],
   "source": [
    "class NN:\n",
    "    def __init__(self):\n",
    "        pass\n",
    "    \n",
    "    # Memorize the training data    \n",
    "    def train(self, X, y):\n",
    "        # X is 2D if size N x D = 28x28, so each row is an example\n",
    "        # y is 1D of size N\n",
    "        self.tr_x = X\n",
    "        self.tr_y = y\n",
    "        \n",
    "    # For the test image:\n",
    "    #  find nearest train image with minimum distance from the test image\n",
    "    #  predict the label of nearest training image\n",
    "    def predict(self, x):\n",
    "        # x is of size D = 28x28 for which we want to predict the label\n",
    "        # returns the predicted label for the input x\n",
    "        min_idx = None\n",
    "        min_dist = 100000000\n",
    "        for test_sample in range(len(self.tr_x)):\n",
    "            dist = 0\n",
    "            for each_value in range(len(self.tr_x[0])):\n",
    "                dist += abs(float((self.tr_x[test_sample][each_value] - x[each_value])))\n",
    "            if dist < min_dist:\n",
    "                min_dist = dist\n",
    "                min_idx = test_sample\n",
    "        return self.tr_y[min_idx]   "
   ]
  },
  {
   "cell_type": "code",
   "execution_count": 10,
   "metadata": {},
   "outputs": [],
   "source": [
    "classifier = NN()"
   ]
  },
  {
   "cell_type": "code",
   "execution_count": 11,
   "metadata": {},
   "outputs": [],
   "source": [
    "classifier.train(x_tr, y_train)"
   ]
  },
  {
   "cell_type": "code",
   "execution_count": 12,
   "metadata": {},
   "outputs": [
    {
     "data": {
      "image/png": "[encoded data removed]",
      "text/plain": [
       "<Figure size 144x144 with 1 Axes>"
      ]
     },
     "metadata": {},
     "output_type": "display_data"
    },
    {
     "name": "stdout",
     "output_type": "stream",
     "text": [
      "0\n"
     ]
    },
    {
     "data": {
      "image/png": "[encoded data removed]",
      "text/plain": [
       "<Figure size 144x144 with 1 Axes>"
      ]
     },
     "metadata": {},
     "output_type": "display_data"
    },
    {
     "name": "stdout",
     "output_type": "stream",
     "text": [
      "1\n"
     ]
    },
    {
     "data": {
      "image/png": "[encoded data removed]",
      "text/plain": [
       "<Figure size 144x144 with 1 Axes>"
      ]
     },
     "metadata": {},
     "output_type": "display_data"
    },
    {
     "name": "stdout",
     "output_type": "stream",
     "text": [
      "1\n"
     ]
    },
    {
     "data": {
      "image/png": "[encoded data removed]",
      "text/plain": [
       "<Figure size 144x144 with 1 Axes>"
      ]
     },
     "metadata": {},
     "output_type": "display_data"
    },
    {
     "name": "stdout",
     "output_type": "stream",
     "text": [
      "5\n"
     ]
    },
    {
     "data": {
      "image/png": "[encoded data removed]",
      "text/plain": [
       "<Figure size 144x144 with 1 Axes>"
      ]
     },
     "metadata": {},
     "output_type": "display_data"
    },
    {
     "name": "stdout",
     "output_type": "stream",
     "text": [
      "7\n"
     ]
    }
   ],
   "source": [
    "plt.figure(figsize=(2,2))\n",
    "plt.imshow(x_test[3],cmap=\"gray\")\n",
    "plt.show()\n",
    "print(classifier.predict(x_te[3]))\n",
    "plt.figure(figsize=(2,2))\n",
    "plt.imshow(x_test[2],cmap=\"gray\")\n",
    "plt.show()\n",
    "print(classifier.predict(x_te[2]))\n",
    "plt.figure(figsize=(2,2))\n",
    "plt.imshow(x_test[33],cmap=\"gray\")\n",
    "plt.show()\n",
    "print(classifier.predict(x_te[33]))\n",
    "plt.figure(figsize=(2,2))\n",
    "plt.imshow(x_test[59],cmap=\"gray\")\n",
    "plt.show()\n",
    "print(classifier.predict(x_te[59]))\n",
    "plt.figure(figsize=(2,2))\n",
    "plt.imshow(x_test[36],cmap=\"gray\")\n",
    "plt.show()\n",
    "print(classifier.predict(x_te[36]))"
   ]
  }
 ],
 "metadata": {
  "kernelspec": {
   "display_name": "Python 3",
   "language": "python",
   "name": "python3"
  },
  "language_info": {
   "codemirror_mode": {
    "name": "ipython",
    "version": 3
   },
   "file_extension": ".py",
   "mimetype": "text/x-python",
   "name": "python",
   "nbconvert_exporter": "python",
   "pygments_lexer": "ipython3",
   "version": "3.5.5"
  }
 },
 "nbformat": 4,
 "nbformat_minor": 2
}
