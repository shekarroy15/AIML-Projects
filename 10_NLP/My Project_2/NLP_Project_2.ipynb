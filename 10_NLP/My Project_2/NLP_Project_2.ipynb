{
 "cells": [
  {
   "cell_type": "markdown",
   "metadata": {
    "id": "zPcgDyUZUWn_"
   },
   "source": [
    "# Author - Shekar Roy"
   ]
  },
  {
   "cell_type": "markdown",
   "metadata": {
    "id": "3EGBQ93DUWk9"
   },
   "source": [
    "## Project 1/2\n",
    "\n",
    "##  DOMAIN - Digital content and entertainment industry\n",
    "## CONTEXT - The  objective  of  this  project  is  to  build  a  text  classification  model  that analyses the customer's sentiments based on their reviews in the IMDB database. The model uses a complex deep learning model to build an embedding layer followed by a classification algorithm to analyse the sentiment of the customers"
   ]
  },
  {
   "cell_type": "code",
   "execution_count": null,
   "metadata": {
    "id": "PIiIyLnfUEBj"
   },
   "outputs": [],
   "source": [
    "import numpy as np\n",
    "import pandas as pd\n",
    "import seaborn as sns\n",
    "import matplotlib.pyplot as plt\n",
    "import tensorflow as tf\n",
    "from tensorflow.keras.datasets import imdb\n",
    "import nltk"
   ]
  },
  {
   "cell_type": "markdown",
   "metadata": {
    "id": "rnCVfIq7U62D"
   },
   "source": [
    "## Import and analyse the data set"
   ]
  },
  {
   "cell_type": "code",
   "execution_count": null,
   "metadata": {
    "colab": {
     "base_uri": "https://localhost:8080/"
    },
    "id": "UX7FpaF2Uwl5",
    "outputId": "8d168ef3-6415-45fc-fd32-3da3958a66b8"
   },
   "outputs": [
    {
     "name": "stdout",
     "output_type": "stream",
     "text": [
      "Downloading data from https://storage.googleapis.com/tensorflow/tf-keras-datasets/imdb.npz\n",
      "17465344/17464789 [==============================] - 0s 0us/step\n",
      "17473536/17464789 [==============================] - 0s 0us/step\n"
     ]
    }
   ],
   "source": [
    "(X_train, y_train), (X_test, y_test) = imdb.load_data(num_words=10000)"
   ]
  },
  {
   "cell_type": "code",
   "execution_count": null,
   "metadata": {
    "colab": {
     "base_uri": "https://localhost:8080/"
    },
    "id": "hIdxGSMwU8-f",
    "outputId": "af268057-5e59-4458-d3f3-76c10f05d7db"
   },
   "outputs": [
    {
     "name": "stdout",
     "output_type": "stream",
     "text": [
      "Shape of X_train data set is: (25000,) Shape of y_train data set is: (25000,)\n",
      "Shape of X_test data set is: (25000,) Shape of y_test data set is: (25000,)\n"
     ]
    }
   ],
   "source": [
    "print('Shape of X_train data set is:', X_train.shape, 'Shape of y_train data set is:', y_train.shape)\n",
    "print('Shape of X_test data set is:', X_test.shape, 'Shape of y_test data set is:', y_test.shape)"
   ]
  },
  {
   "cell_type": "markdown",
   "metadata": {
    "id": "XScN2lirVF6g"
   },
   "source": [
    "### Perform relevant sequence adding on the data"
   ]
  },
  {
   "cell_type": "code",
   "execution_count": null,
   "metadata": {
    "id": "cegsZmmEVD5A"
   },
   "outputs": [],
   "source": [
    "review = np.concatenate((X_train, X_test), axis=0)\n",
    "sentiment = np.concatenate((y_train, y_test), axis=0)"
   ]
  },
  {
   "cell_type": "markdown",
   "metadata": {
    "id": "Q6Au8DhoVPRi"
   },
   "source": [
    "## Data Analysis\n",
    "\n",
    "### Print shape of features and labels"
   ]
  },
  {
   "cell_type": "code",
   "execution_count": null,
   "metadata": {
    "colab": {
     "base_uri": "https://localhost:8080/"
    },
    "id": "x3xDhW6xVKM8",
    "outputId": "3fad1e88-1b14-4721-81bd-a3177469162b"
   },
   "outputs": [
    {
     "data": {
      "text/plain": [
       "array([0, 1])"
      ]
     },
     "execution_count": 5,
     "metadata": {},
     "output_type": "execute_result"
    }
   ],
   "source": [
    "np.unique(sentiment)"
   ]
  },
  {
   "cell_type": "code",
   "execution_count": null,
   "metadata": {
    "colab": {
     "base_uri": "https://localhost:8080/"
    },
    "id": "dhTDcYNXVIUQ",
    "outputId": "038f9003-f734-4c74-f531-3ae7ef08be83"
   },
   "outputs": [
    {
     "name": "stdout",
     "output_type": "stream",
     "text": [
      "Total number of reviews: (50000,)\n",
      "Total number of sentiments: (50000,)\n"
     ]
    }
   ],
   "source": [
    "print('Total number of reviews:', review.shape)\n",
    "print('Total number of sentiments:', sentiment.shape)"
   ]
  },
  {
   "cell_type": "code",
   "execution_count": null,
   "metadata": {
    "colab": {
     "base_uri": "https://localhost:8080/"
    },
    "id": "C--_XGBGVTq6",
    "outputId": "45ab7378-95e3-4ac1-9568-87f9a96a49d9"
   },
   "outputs": [
    {
     "name": "stdout",
     "output_type": "stream",
     "text": [
      "[1, 6, 964, 437, 7, 58, 43, 1402, 11, 6, 171, 3978, 701, 570, 997, 4179, 1880, 6, 5211, 5288, 550, 1270, 1222, 4891, 519, 6141, 5, 236, 21, 24, 222, 6, 3934, 2, 40, 109, 19, 1513, 8, 1513, 893, 8016, 5, 1493, 11, 6, 2, 5, 25, 80, 28, 14, 806, 1338, 18, 6, 20, 13, 66, 188, 6, 462, 46, 7, 4, 884, 445, 40, 2699, 2, 9671, 4, 114, 16, 1198, 200, 5400, 5, 701, 2975, 89, 111, 2, 26, 1688, 8, 97, 6, 2476, 1431, 2863, 2134, 23, 6, 519, 1522, 1527, 470, 21, 161, 36, 413, 2, 143, 2, 4756, 14, 16, 398, 18, 2, 6286, 12, 299, 40, 6, 374, 500, 13, 122, 358, 4, 2, 1530, 5128, 11, 4, 2092, 151]\n"
     ]
    }
   ],
   "source": [
    "print(review[15])"
   ]
  },
  {
   "cell_type": "code",
   "execution_count": null,
   "metadata": {
    "colab": {
     "base_uri": "https://localhost:8080/"
    },
    "id": "ZL4m0_fCVWHM",
    "outputId": "68c85d18-4341-4b39-e79b-9355f30f8276"
   },
   "outputs": [
    {
     "name": "stdout",
     "output_type": "stream",
     "text": [
      "0\n"
     ]
    }
   ],
   "source": [
    "print(sentiment[15])"
   ]
  },
  {
   "cell_type": "code",
   "execution_count": null,
   "metadata": {
    "colab": {
     "base_uri": "https://localhost:8080/"
    },
    "id": "H6dGaf0nVYQx",
    "outputId": "9db63672-08e4-4d06-fef7-95ecdec07eee"
   },
   "outputs": [
    {
     "name": "stdout",
     "output_type": "stream",
     "text": [
      "[1, 13, 447, 14, 20, 12, 9, 1281, 8, 79, 6, 3132, 7, 1208, 2, 2571, 5, 14, 20, 9462, 4000, 139, 5, 1127, 5896, 5, 2, 122, 12, 13, 69, 57, 326, 474, 30, 38, 3889, 34, 12, 51, 35, 480, 168, 33, 89, 1536, 9518, 235, 12, 16, 1211, 8, 106, 179, 2035, 75, 32, 391, 4, 997, 5, 4, 7529, 150, 552, 7, 453, 21, 14, 9, 38, 38, 275, 51, 571, 54, 36, 216, 145, 5, 353, 8, 412, 6, 113, 36, 191, 12, 93, 72, 55, 1887, 7, 6, 1058, 604, 7, 349, 15, 26, 2, 187, 416, 11, 938, 24, 502, 8, 2198, 191, 1666, 191, 28, 119, 5625, 191, 855, 19, 1280, 926, 36, 235, 484, 972, 14, 9, 6, 666, 1521, 5, 31, 15, 218, 7470, 195, 1243, 2002, 1194, 263, 2169, 44, 2571, 9518, 75, 40, 98, 150, 21, 38, 51, 12, 152, 306, 8, 28, 93, 101, 1474, 8, 98, 45, 99, 522, 38, 12, 16, 6, 87, 22, 21, 13, 3785, 6, 176, 13, 28, 57, 85, 8044]\n"
     ]
    }
   ],
   "source": [
    "print(review[1050])"
   ]
  },
  {
   "cell_type": "code",
   "execution_count": null,
   "metadata": {
    "colab": {
     "base_uri": "https://localhost:8080/"
    },
    "id": "rpIux1MQVdnq",
    "outputId": "7f8903ff-2d47-4112-abf3-9a13da619e89"
   },
   "outputs": [
    {
     "name": "stdout",
     "output_type": "stream",
     "text": [
      "1\n"
     ]
    }
   ],
   "source": [
    "print(sentiment[1050])"
   ]
  },
  {
   "cell_type": "markdown",
   "metadata": {
    "id": "wyEsR2sKVg4y"
   },
   "source": [
    "## Decode the feature value to get original sentence"
   ]
  },
  {
   "cell_type": "code",
   "execution_count": null,
   "metadata": {
    "colab": {
     "base_uri": "https://localhost:8080/"
    },
    "id": "2Pen2neKVe_S",
    "outputId": "11d1fc89-006f-4040-9da3-f80afbd03388"
   },
   "outputs": [
    {
     "name": "stdout",
     "output_type": "stream",
     "text": [
      "Downloading data from https://storage.googleapis.com/tensorflow/tf-keras-datasets/imdb_word_index.json\n",
      "1646592/1641221 [==============================] - 0s 0us/step\n",
      "1654784/1641221 [==============================] - 0s 0us/step\n"
     ]
    }
   ],
   "source": [
    "review_index = imdb.get_word_index()\n",
    "review_words = {value:key for key, value in review_index.items()}"
   ]
  },
  {
   "cell_type": "code",
   "execution_count": null,
   "metadata": {
    "colab": {
     "base_uri": "https://localhost:8080/",
     "height": 91
    },
    "id": "DxQ73bOCVjnu",
    "outputId": "fc404237-bab6-44c4-aafd-8df1e21aa389"
   },
   "outputs": [
    {
     "data": {
      "application/vnd.google.colaboratory.intrinsic+json": {
       "type": "string"
      },
      "text/plain": [
       "\"$ shown in australia as $ this incredibly bad movie is so bad that you become $ and have to watch it to the end just to see if it could get any worse and it does the storyline is so predictable it seems written by a high school $ class the sets are pathetic but $ better than the $ and the acting is wooden br br the $ $ seems to have been stolen from the props $ of $ $ there didn't seem to be a single original idea in the whole movie br br i found this movie to be so bad that i laughed most of the way through br br malcolm mcdowell should hang his head in shame he obviously needed the money\""
      ]
     },
     "execution_count": 12,
     "metadata": {},
     "output_type": "execute_result"
    }
   ],
   "source": [
    "\" \".join([review_words.get(i - 3, \"$\") for i in review[20]])"
   ]
  },
  {
   "cell_type": "markdown",
   "metadata": {
    "id": "jYz8F5rxVoTn"
   },
   "source": [
    "#### Vectorizing the data\n",
    "\n",
    "- Review with less than 10000 will be filled 0 so that everything will be equal\n"
   ]
  },
  {
   "cell_type": "code",
   "execution_count": null,
   "metadata": {
    "id": "U3IesBIeVlmE"
   },
   "outputs": [],
   "source": [
    "def vectorizing(sequences, dimension = 10000):\n",
    "    results = np.zeros((len(sequences), dimension))\n",
    "    for i, sequence in enumerate(sequences):\n",
    "        results[i, sequence] = 1\n",
    "    return results"
   ]
  },
  {
   "cell_type": "code",
   "execution_count": null,
   "metadata": {
    "id": "4i23DGXrVtS_"
   },
   "outputs": [],
   "source": [
    "review = vectorizing(review)\n",
    "sentiment = np.array(sentiment).astype(\"float32\")"
   ]
  },
  {
   "cell_type": "markdown",
   "metadata": {
    "id": "HuhBsqyFVwZL"
   },
   "source": [
    "#### Train and Test Data"
   ]
  },
  {
   "cell_type": "code",
   "execution_count": null,
   "metadata": {
    "id": "LrgT4ZrwVuts"
   },
   "outputs": [],
   "source": [
    "review_test = review[:10000]\n",
    "sentiment_test = sentiment[:10000]"
   ]
  },
  {
   "cell_type": "code",
   "execution_count": null,
   "metadata": {
    "id": "QQA_J-7cVyvr"
   },
   "outputs": [],
   "source": [
    "review_train = review[10000:]\n",
    "sentiment_train = sentiment[10000:]"
   ]
  },
  {
   "cell_type": "markdown",
   "metadata": {
    "id": "iUnPQqGFV2J8"
   },
   "source": [
    "#### Model Building"
   ]
  },
  {
   "cell_type": "code",
   "execution_count": null,
   "metadata": {
    "id": "0Dy7t5UxV0hb"
   },
   "outputs": [],
   "source": [
    "from sklearn.linear_model import LogisticRegression\n",
    "from sklearn.naive_bayes import MultinomialNB\n",
    "from sklearn.ensemble import RandomForestClassifier\n",
    "from tensorflow.keras import models\n",
    "from tensorflow.keras import layers\n",
    "from tensorflow.keras.layers import Dense, Activation, Dropout"
   ]
  },
  {
   "cell_type": "markdown",
   "metadata": {
    "id": "tCrRVaxHV9Qs"
   },
   "source": [
    "### Model :- Logistic Regression"
   ]
  },
  {
   "cell_type": "code",
   "execution_count": null,
   "metadata": {
    "id": "nSA_GfzoV6Gf"
   },
   "outputs": [],
   "source": [
    "log_reg = LogisticRegression(solver='lbfgs', penalty='l2', max_iter=500, C=1, random_state=42)"
   ]
  },
  {
   "cell_type": "code",
   "execution_count": null,
   "metadata": {
    "colab": {
     "background_save": true
    },
    "id": "FAvD9TgPWB0L",
    "outputId": "3ece5858-a099-466f-fc5d-c5f501ec5c31"
   },
   "outputs": [
    {
     "data": {
      "text/plain": [
       "LogisticRegression(C=1, max_iter=500, random_state=42)"
      ]
     },
     "execution_count": null,
     "metadata": {},
     "output_type": "execute_result"
    }
   ],
   "source": [
    "log_reg.fit(review_train, sentiment_train)"
   ]
  },
  {
   "cell_type": "code",
   "execution_count": null,
   "metadata": {
    "colab": {
     "background_save": true
    },
    "id": "l-tZVtnXWDPL"
   },
   "outputs": [],
   "source": [
    "predict_log_reg = log_reg.predict(review_test)"
   ]
  },
  {
   "cell_type": "markdown",
   "metadata": {
    "id": "UbhLQr-pWGZl"
   },
   "source": [
    "#### Model :- Naive Bayes"
   ]
  },
  {
   "cell_type": "code",
   "execution_count": null,
   "metadata": {
    "colab": {
     "background_save": true
    },
    "id": "GLHbq2QvWEvl",
    "outputId": "224f559d-67c5-4fb8-fc26-ddc171776aae"
   },
   "outputs": [
    {
     "data": {
      "text/plain": [
       "MultinomialNB()"
      ]
     },
     "execution_count": null,
     "metadata": {},
     "output_type": "execute_result"
    }
   ],
   "source": [
    "NB = MultinomialNB()\n",
    "NB.fit(review_train, sentiment_train)"
   ]
  },
  {
   "cell_type": "code",
   "execution_count": null,
   "metadata": {
    "colab": {
     "background_save": true
    },
    "id": "oZk4yWgmWJr0"
   },
   "outputs": [],
   "source": [
    "predict_NB = NB.predict(review_test)"
   ]
  },
  {
   "cell_type": "markdown",
   "metadata": {
    "id": "2e7j5wMbWN4x"
   },
   "source": [
    "### Model :- Random Forest"
   ]
  },
  {
   "cell_type": "code",
   "execution_count": null,
   "metadata": {
    "colab": {
     "background_save": true
    },
    "id": "lqO0jtldWLFa",
    "outputId": "f2d40a27-f789-4e8d-d5fa-42a040285022"
   },
   "outputs": [
    {
     "data": {
      "text/plain": [
       "RandomForestClassifier(max_depth=5, n_jobs=-1, oob_score=True, random_state=42)"
      ]
     },
     "execution_count": null,
     "metadata": {},
     "output_type": "execute_result"
    }
   ],
   "source": [
    "rf = RandomForestClassifier(random_state=42, n_jobs=-1, max_depth=5, n_estimators=100, oob_score=True)\n",
    "rf.fit(review_train, sentiment_train)"
   ]
  },
  {
   "cell_type": "code",
   "execution_count": null,
   "metadata": {
    "colab": {
     "background_save": true
    },
    "id": "uZ6ELJrMWQml"
   },
   "outputs": [],
   "source": [
    "predict_rf = rf.predict(review_test)"
   ]
  },
  {
   "cell_type": "markdown",
   "metadata": {
    "id": "boydnDc1WUEa"
   },
   "source": [
    "### Model :- Neural Network"
   ]
  },
  {
   "cell_type": "code",
   "execution_count": null,
   "metadata": {
    "colab": {
     "background_save": true
    },
    "id": "olGLvuAzWSMj"
   },
   "outputs": [],
   "source": [
    "model = models.Sequential()\n",
    "\n",
    "# Input - Layer\n",
    "model.add(layers.Dense(50, activation = \"relu\", input_shape=(10000, )))\n",
    "\n",
    "# Hidden - Layers\n",
    "model.add(layers.Dropout(0.3, noise_shape=None, seed=None))\n",
    "model.add(layers.Dense(50, activation = \"relu\"))\n",
    "\n",
    "model.add(layers.Dropout(0.1, noise_shape=None, seed=None))\n",
    "model.add(layers.Dense(50, activation = \"relu\"))\n",
    "\n",
    "# Output- Layer\n",
    "model.add(layers.Dense(1, activation = \"sigmoid\"))\n",
    "\n",
    "#Compile Model\n",
    "model.compile(optimizer = \"adam\", loss = \"binary_crossentropy\", metrics = [\"accuracy\"])"
   ]
  },
  {
   "cell_type": "code",
   "execution_count": null,
   "metadata": {
    "colab": {
     "background_save": true
    },
    "id": "Bo_DUncqWdJ0",
    "outputId": "f1e96e63-77d2-4bb1-986c-ecf4e5036bd0"
   },
   "outputs": [
    {
     "name": "stdout",
     "output_type": "stream",
     "text": [
      "Epoch 1/10\n",
      "80/80 [==============================] - 4s 25ms/step - loss: 0.3915 - accuracy: 0.8274 - val_loss: 0.2637 - val_accuracy: 0.8957\n",
      "Epoch 2/10\n",
      "80/80 [==============================] - 1s 16ms/step - loss: 0.2099 - accuracy: 0.9192 - val_loss: 0.2654 - val_accuracy: 0.8917\n",
      "Epoch 3/10\n",
      "80/80 [==============================] - 1s 17ms/step - loss: 0.1473 - accuracy: 0.9463 - val_loss: 0.3009 - val_accuracy: 0.8903\n",
      "Epoch 4/10\n",
      "80/80 [==============================] - 1s 16ms/step - loss: 0.0991 - accuracy: 0.9672 - val_loss: 0.3512 - val_accuracy: 0.8886\n",
      "Epoch 5/10\n",
      "80/80 [==============================] - 1s 16ms/step - loss: 0.0652 - accuracy: 0.9779 - val_loss: 0.4346 - val_accuracy: 0.8826\n",
      "Epoch 6/10\n",
      "80/80 [==============================] - 1s 17ms/step - loss: 0.0441 - accuracy: 0.9857 - val_loss: 0.4675 - val_accuracy: 0.8816\n",
      "Epoch 7/10\n",
      "80/80 [==============================] - 1s 17ms/step - loss: 0.0340 - accuracy: 0.9884 - val_loss: 0.5350 - val_accuracy: 0.8820\n",
      "Epoch 8/10\n",
      "80/80 [==============================] - 1s 16ms/step - loss: 0.0302 - accuracy: 0.9890 - val_loss: 0.5429 - val_accuracy: 0.8810\n",
      "Epoch 9/10\n",
      "80/80 [==============================] - 1s 16ms/step - loss: 0.0280 - accuracy: 0.9906 - val_loss: 0.6008 - val_accuracy: 0.8797\n",
      "Epoch 10/10\n",
      "80/80 [==============================] - 1s 16ms/step - loss: 0.0247 - accuracy: 0.9912 - val_loss: 0.6392 - val_accuracy: 0.8735\n"
     ]
    }
   ],
   "source": [
    "NN_Model = model.fit(review_train, sentiment_train, epochs= 10, batch_size = 500, validation_data = (review_test, sentiment_test))"
   ]
  },
  {
   "cell_type": "code",
   "execution_count": null,
   "metadata": {
    "colab": {
     "background_save": true
    },
    "id": "NhfMZiB4Wgh8"
   },
   "outputs": [],
   "source": [
    "from sklearn.metrics import accuracy_score, classification_report"
   ]
  },
  {
   "cell_type": "code",
   "execution_count": null,
   "metadata": {
    "colab": {
     "background_save": true
    },
    "id": "fFDHU5eHWhNt",
    "outputId": "ae2e4ee8-be1f-4acf-a5d7-5b18da02f1e0"
   },
   "outputs": [
    {
     "name": "stdout",
     "output_type": "stream",
     "text": [
      "Accuracy score for Logistic Regression -  0.8716\n",
      "Accuracy score for Naive Bayes -  0.8496\n",
      "Accuracy score for Random Forest -  0.8192\n",
      "Accuracy score for Neural Network -  0.8846700012683868\n"
     ]
    }
   ],
   "source": [
    "print('Accuracy score for Logistic Regression - ', accuracy_score(sentiment_test, predict_log_reg))\n",
    "print('Accuracy score for Naive Bayes - ', accuracy_score(sentiment_test, predict_NB))\n",
    "print('Accuracy score for Random Forest - ', accuracy_score(sentiment_test, predict_rf))\n",
    "print('Accuracy score for Neural Network - ', np.mean(NN_Model.history['val_accuracy']))"
   ]
  },
  {
   "cell_type": "code",
   "execution_count": null,
   "metadata": {
    "colab": {
     "background_save": true
    },
    "id": "SvFqO-1rXYHs",
    "outputId": "bf5c9b97-90e8-4129-c981-955dd8e69208"
   },
   "outputs": [
    {
     "name": "stdout",
     "output_type": "stream",
     "text": [
      "          Classification Report for Logistic Regression \n",
      "\n",
      "              precision    recall  f1-score   support\n",
      "\n",
      "    Positive       0.87      0.87      0.87      4947\n",
      "    Negative       0.88      0.87      0.87      5053\n",
      "\n",
      "    accuracy                           0.87     10000\n",
      "   macro avg       0.87      0.87      0.87     10000\n",
      "weighted avg       0.87      0.87      0.87     10000\n",
      "\n"
     ]
    }
   ],
   "source": [
    "print('          Classification Report for Logistic Regression \\n')\n",
    "print(classification_report(sentiment_test, predict_log_reg, target_names=['Positive','Negative']))"
   ]
  },
  {
   "cell_type": "code",
   "execution_count": null,
   "metadata": {
    "colab": {
     "background_save": true
    },
    "id": "Gu4unjp1XZFU",
    "outputId": "7f3094c8-f1af-4959-d5f4-e5a3c6e6fabf"
   },
   "outputs": [
    {
     "name": "stdout",
     "output_type": "stream",
     "text": [
      "          Classification Report for Naive Bayes \n",
      "\n",
      "              precision    recall  f1-score   support\n",
      "\n",
      "    Positive       0.84      0.86      0.85      4947\n",
      "    Negative       0.86      0.84      0.85      5053\n",
      "\n",
      "    accuracy                           0.85     10000\n",
      "   macro avg       0.85      0.85      0.85     10000\n",
      "weighted avg       0.85      0.85      0.85     10000\n",
      "\n"
     ]
    }
   ],
   "source": [
    "print('          Classification Report for Naive Bayes \\n')\n",
    "print(classification_report(sentiment_test, predict_NB, target_names=['Positive','Negative']))"
   ]
  },
  {
   "cell_type": "code",
   "execution_count": null,
   "metadata": {
    "colab": {
     "background_save": true
    },
    "id": "Hc0uD76sXbDb",
    "outputId": "aacd52cd-b5ed-44a7-bb15-b6d0b7f2a9f0"
   },
   "outputs": [
    {
     "name": "stdout",
     "output_type": "stream",
     "text": [
      "          Classification Report for Random Forest \n",
      "\n",
      "              precision    recall  f1-score   support\n",
      "\n",
      "    Positive       0.85      0.78      0.81      4947\n",
      "    Negative       0.80      0.86      0.83      5053\n",
      "\n",
      "    accuracy                           0.82     10000\n",
      "   macro avg       0.82      0.82      0.82     10000\n",
      "weighted avg       0.82      0.82      0.82     10000\n",
      "\n"
     ]
    }
   ],
   "source": [
    "print('          Classification Report for Random Forest \\n')\n",
    "print(classification_report(sentiment_test, predict_rf, target_names=['Positive','Negative']))"
   ]
  },
  {
   "cell_type": "code",
   "execution_count": null,
   "metadata": {
    "colab": {
     "background_save": true
    },
    "id": "A7oX5JfKXcm0"
   },
   "outputs": [],
   "source": [
    "predict_model = model.predict(review_test)\n",
    "classes_x=np.argmax(predict_model ,axis=1)"
   ]
  },
  {
   "cell_type": "code",
   "execution_count": null,
   "metadata": {
    "colab": {
     "background_save": true
    },
    "id": "s2YkctIaXeK3"
   },
   "outputs": [],
   "source": [
    "predict_model = predict_model[:, 0]"
   ]
  },
  {
   "cell_type": "markdown",
   "metadata": {
    "id": "q7ZflHd0YOzX"
   },
   "source": [
    "\n",
    "\n",
    "### Inference\n",
    "\n",
    "    - On the Accuracy perspective Neural Network have bee in the top with 88% while Random Forest with least of 81%\n",
    "    - On the preceision and recall Logistic Regression and Neural Network both are at higher side\n",
    "    - On the F1-Score Neural Network tops the list\n",
    "\n",
    "-- Validating the Prediction with actual value\n",
    "\n"
   ]
  },
  {
   "cell_type": "code",
   "execution_count": null,
   "metadata": {
    "colab": {
     "background_save": true
    },
    "id": "toVWeijoYIy5",
    "outputId": "0eb96d77-281f-43be-8177-7ae2ae893d9a"
   },
   "outputs": [
    {
     "name": "stdout",
     "output_type": "stream",
     "text": [
      "0.056683272\n"
     ]
    }
   ],
   "source": [
    "print(predict_model[5])"
   ]
  },
  {
   "cell_type": "code",
   "execution_count": null,
   "metadata": {
    "colab": {
     "background_save": true
    },
    "id": "_BdnsaGLYX6Z",
    "outputId": "a991d662-f943-4996-ef64-7bf5c3aa7062"
   },
   "outputs": [
    {
     "name": "stdout",
     "output_type": "stream",
     "text": [
      "0.0\n"
     ]
    }
   ],
   "source": [
    "print(sentiment_test[5])"
   ]
  },
  {
   "cell_type": "code",
   "execution_count": null,
   "metadata": {
    "colab": {
     "background_save": true
    },
    "id": "L8eirgF7YZpo",
    "outputId": "5c03a967-a734-46a6-8b4b-ca65effdaf87"
   },
   "outputs": [
    {
     "name": "stdout",
     "output_type": "stream",
     "text": [
      "1.0\n"
     ]
    }
   ],
   "source": [
    "print(predict_model[10])"
   ]
  },
  {
   "cell_type": "code",
   "execution_count": null,
   "metadata": {
    "colab": {
     "background_save": true
    },
    "id": "huy96JrUYbdz",
    "outputId": "beb3e990-70a2-4990-e56c-9dc421a13455"
   },
   "outputs": [
    {
     "name": "stdout",
     "output_type": "stream",
     "text": [
      "1.0\n"
     ]
    }
   ],
   "source": [
    "print(sentiment_test[10])"
   ]
  },
  {
   "cell_type": "markdown",
   "metadata": {
    "id": "GRUW0IdzYgSY"
   },
   "source": [
    "\n",
    "## Conclusion\n",
    "\n",
    "    - IMDB data set was loaded with pre defined train and test data frame\n",
    "    - Data Analysis was performed after combining the test and train data set\n",
    "    - Orginal sentence was displayed\n",
    "    - 4 different models Logistic Regression, Naive Bayes, Random Forest and Neural Network model were built\n",
    "    - Accuracy and classification report were created to finalise the best model\n",
    "    - Neural Network is the best model with highest accuracy in the test data\n",
    "    - Finally validated the predicted sentiment with actual sentiment\n",
    "\n"
   ]
  },
  {
   "cell_type": "markdown",
   "metadata": {
    "id": "eIuzJR1-YuuI"
   },
   "source": [
    "## Project 2/2\n",
    "\n",
    "##### DOMAIN:  Social media analytics\n",
    "##### CONTEXT: Past studies in Sarcasm Detection mostly make use of Twitter datasets collected using   hashtag   based   supervision   but   such   datasets   are   noisy   in   terms   of   labels   and language.  Furthermore,  many  tweets  are  replies  to  other  tweets  and  detecting  sarcasm  in these  requires  the  availability  of  contextual  tweets.In  this  hands-on  project,  the  goal  is  to build a model to detect whether a sentence is sarcastic or not, using Bidirectional LSTMs."
   ]
  },
  {
   "cell_type": "markdown",
   "metadata": {
    "id": "uhMyTUVyY9Gj"
   },
   "source": [
    "### Reference\n",
    "\n",
    "https://github.com/rishabhmisra/News-Headlines-Dataset-For-Sarcasm-Detection"
   ]
  },
  {
   "cell_type": "code",
   "execution_count": null,
   "metadata": {
    "id": "mtLaM9_AYdbj"
   },
   "outputs": [],
   "source": [
    "from google.colab import drive\n",
    "drive.mount('/content/drive')"
   ]
  },
  {
   "cell_type": "code",
   "execution_count": 77,
   "metadata": {
    "id": "AMGsx9ZJZDQR"
   },
   "outputs": [],
   "source": [
    "import warnings; warnings.filterwarnings('ignore')\n",
    "import pandas as pd, numpy as np, tensorflow as tf\n",
    "import matplotlib.pyplot as plt\n",
    "import seaborn as sns\n",
    "import matplotlib.style as style\n",
    "\n",
    "import random, re\n",
    "assert tf.__version__ >= '2.0'\n",
    "%matplotlib inline\n",
    "\n",
    "# Models\n",
    "from tensorflow.keras.layers import Dense, LSTM, Embedding, Dropout, Flatten, Bidirectional, GlobalMaxPool1D\n",
    "from tensorflow.keras.callbacks import EarlyStopping, ModelCheckpoint, ReduceLROnPlateau, TensorBoard\n",
    "from tensorflow.keras.preprocessing.sequence import pad_sequences\n",
    "from tensorflow.keras.preprocessing.text import Tokenizer\n",
    "from tensorflow.keras.models import Model, Sequential\n",
    "from tensorflow.keras.initializers import Constant\n",
    "\n",
    "from sklearn.metrics import classification_report, confusion_matrix\n",
    "from sklearn.model_selection import train_test_split\n",
    "\n",
    "# Set random state\n",
    "random_state = 42\n",
    "np.random.seed(random_state)\n",
    "tf.random.set_seed(random_state)"
   ]
  },
  {
   "cell_type": "markdown",
   "metadata": {
    "id": "Z8LiVXcWZd9N"
   },
   "source": [
    "### 1. Read and explore the data"
   ]
  },
  {
   "cell_type": "code",
   "execution_count": null,
   "metadata": {
    "id": "Tq8GPE7wZR8M"
   },
   "outputs": [],
   "source": [
    "data = pd.read_json('/content/drive/MyDrive/NLP/Sarcasm_Headlines_Dataset.json', lines = True)\n",
    "print(f'Data has {data.shape[0]} rows and {data.shape[1]} columns. Here are the first five rows of the data...')\n",
    "display(data.head())"
   ]
  },
  {
   "cell_type": "code",
   "execution_count": null,
   "metadata": {
    "id": "Jy_7w_CGZqzM"
   },
   "outputs": [],
   "source": [
    "print('--'*30); print('Value Counts for `is_sarcastic` label'); print('--'*30)\n",
    "print(f'Sarcastic count: {data[data.is_sarcastic == 1].shape[0]} i.e. {round(data[data.is_sarcastic == 1].shape[0]/data.shape[0]*100, 0)}%')\n",
    "print(f'Non Sarcastic count: {data[data.is_sarcastic == 0].shape[0]} i.e. {round(data[data.is_sarcastic == 0].shape[0]/data.shape[0]*100, 0)}%')\n",
    "\n",
    "print('--'*30); print('Distributon of `is_sarcastic` label'); print('--'*30)\n",
    "_ = data['is_sarcastic'].value_counts().plot(kind = 'pie', autopct = '%.0f%%', labels = ['Sarcastic', 'Non-sarcastic'], figsize = (10, 6))\n"
   ]
  },
  {
   "cell_type": "code",
   "execution_count": null,
   "metadata": {
    "id": "Ugqg9ZTUZxIr"
   },
   "outputs": [],
   "source": [
    "print('Analysis of `is_sarcastic` label by news website'); print('--'*30)\n",
    "\n",
    "hf = data[data['article_link'].str.contains('huffingtonpost.com')].shape[0]\n",
    "op = data[data['article_link'].str.contains('theonion.com')].shape[0]\n",
    "\n",
    "is_sarcastic_hf = data.loc[(data['article_link'].str.contains('huffingtonpost.com')) & (data['is_sarcastic'] == 1)].shape[0]\n",
    "not_sarcastic_hf = data.loc[(data['article_link'].str.contains('huffingtonpost.com')) & (data['is_sarcastic'] == 0)].shape[0]\n",
    "\n",
    "is_sarcastic_op = data.loc[(data['article_link'].str.contains('theonion.com')) & (data['is_sarcastic'] == 1)].shape[0]\n",
    "not_sarcastic_op = data.loc[(data['article_link'].str.contains('theonion.com')) & (data['is_sarcastic'] == 0)].shape[0]\n",
    "\n",
    "display(pd.DataFrame([[is_sarcastic_hf, is_sarcastic_op], [not_sarcastic_hf, not_sarcastic_op]], \n",
    "                     columns = ['huffingtonpost', 'theonion'], index = ['Sarcastic', 'Non-sarcastic']))"
   ]
  },
  {
   "cell_type": "code",
   "execution_count": null,
   "metadata": {
    "id": "vwQCaU2BZzyl"
   },
   "outputs": [],
   "source": [
    "# Checking 5 random headlines and labels from the data\n",
    "print('--'*30); print('Checking 5 random headlines and labels from the data'); print('--'*30)\n",
    "rands = random.sample(range(1, data.shape[0]), 5)\n",
    "headlines, labels = list(data.loc[rands, 'headline']), list(data.loc[rands, 'is_sarcastic'])\n",
    "\n",
    "_ = [print(f'Headline: {head}\\nlabel: {label}\\n') for head, label in zip(headlines, labels)]"
   ]
  },
  {
   "cell_type": "code",
   "execution_count": null,
   "metadata": {
    "id": "7a5wg4ZOZ2TU"
   },
   "outputs": [],
   "source": [
    "# Checking 5 random headlines and labels from the data where the length of headline is > 100\n",
    "print('--'*30); print('Checking 5 random headlines and labels from the data where the length of headline is > 100'); print('--'*30)\n",
    "indexes = list(data.loc[data['headline'].str.len() > 100, 'headline'].index)\n",
    "rands = random.sample(indexes, 5)\n",
    "headlines, labels = list(data.loc[rands, 'headline']), list(data.loc[rands, 'is_sarcastic'])\n",
    "\n",
    "_ = [print(f'Headline: {head}\\nlabel: {label}\\n') for head, label in zip(headlines, labels)]\n",
    "\n",
    "print('--'*30); print('Distributon of label where the length of headline is > 100'); print('--'*30)\n",
    "_ = data.loc[indexes, 'is_sarcastic'].value_counts().plot(kind = 'pie', autopct = '%.0f%%', \n",
    "                                                          labels = ['Sarcastic', 'Non-sarcastic'], figsize = (10, 6))"
   ]
  },
  {
   "cell_type": "markdown",
   "metadata": {
    "id": "0AeggCxXaUm6"
   },
   "source": [
    "### Observations\n",
    "\n",
    "  - 48% of the data have sarcastic labels whereas 52% don't.\n",
    "  - Suprising! There are no headlines from HuffPost that are sarcastic whereas all but one from The Onion are sarcastic.\n",
    "  - Based on some random headlines seen above, it appears that the data is mostly lower-cased. Pre-processing such as removing punctuations and lemmatization can be used.\n",
    "  - There are digits in the headlines for e.g. 3 things i needed to hear when i weighed 300 pounds where removing the digits wouldn't help.\n",
    "  - 89% of data with length of sentence (headlines) > 100 are sarcastic headlines.\n",
    "\n"
   ]
  },
  {
   "cell_type": "markdown",
   "metadata": {
    "id": "GZIsjoB9ahsj"
   },
   "source": [
    "## 2. Drop one column"
   ]
  },
  {
   "cell_type": "code",
   "execution_count": null,
   "metadata": {
    "id": "dTaGHiIxaQpQ"
   },
   "outputs": [],
   "source": [
    "print('Dropping `article_link` column from the data'); print('--'*30)\n",
    "data.drop('article_link', axis = 1, inplace = True)"
   ]
  },
  {
   "cell_type": "markdown",
   "metadata": {
    "id": "292-wgNtamKt"
   },
   "source": [
    "## 3. Get length of each sentence"
   ]
  },
  {
   "cell_type": "code",
   "execution_count": null,
   "metadata": {
    "id": "wu_P-syiZ7M3"
   },
   "outputs": [],
   "source": [
    "lengths = data['headline'].str.len()"
   ]
  },
  {
   "cell_type": "code",
   "execution_count": null,
   "metadata": {
    "id": "b9j0DLztaqfb"
   },
   "outputs": [],
   "source": [
    "print('Headline:', data['headline'][1])\n",
    "print('Length:',lengths[1])\n"
   ]
  },
  {
   "cell_type": "code",
   "execution_count": null,
   "metadata": {
    "id": "yO3WOfxyarzm"
   },
   "outputs": [],
   "source": [
    "lengths.min()"
   ]
  },
  {
   "cell_type": "code",
   "execution_count": null,
   "metadata": {
    "id": "S4NSwqrGatFt"
   },
   "outputs": [],
   "source": [
    "lengths.max()"
   ]
  },
  {
   "cell_type": "markdown",
   "metadata": {
    "id": "HzYbllR8aw5A"
   },
   "source": [
    "### Data Preprocessing\n",
    "\n",
    "- Few of the data pre-processing steps taken before applying model on the data\n",
    "\n",
    "    - Converting to lower case, avoid any capital cases\n",
    "    - Converting apostrophe to the standard lexicons\n",
    "    - Removing punctuations\n",
    "    - Lemmatization\n",
    "\n"
   ]
  },
  {
   "cell_type": "code",
   "execution_count": null,
   "metadata": {
    "id": "oRwZx_POau49"
   },
   "outputs": [],
   "source": [
    "import nltk; nltk.download('wordnet'); nltk.download('stopwords')\n",
    "from nltk.stem import WordNetLemmatizer\n",
    "from nltk.corpus import wordnet as wn\n",
    "from nltk.corpus import stopwords\n",
    "from wordcloud import WordCloud\n",
    "import matplotlib.pyplot as plt\n",
    "import string\n",
    "nltk.download('averaged_perceptron_tagger')"
   ]
  },
  {
   "cell_type": "code",
   "execution_count": null,
   "metadata": {
    "id": "fSq8o9w_a5rm"
   },
   "outputs": [],
   "source": [
    "appos = {\"ain't\": \"am not\", \"aren't\": \"are not\", \"can't\": \"cannot\", \n",
    "         \"can't've\": \"cannot have\", \"'cause\": \"because\", \n",
    "         \"could've\": \"could have\", \"couldn't\": \"could not\", \n",
    "         \"couldn't've\": \"could not have\", \"didn't\": \"did not\", \n",
    "         \"doesn't\": \"does not\", \"don't\": \"do not\", \"hadn't\": \"had not\", \n",
    "         \"hadn't've\": \"had not have\", \"hasn't\": \"has not\", \n",
    "         \"haven't\": \"have not\", \"he'd\": \"he would\", \"he'd've\": \"he would have\", \n",
    "         \"he'll\": \"he will\", \"he'll've\": \"he will have\", \n",
    "         \"he's\": \"he is\", \"how'd\": \"how did\", \n",
    "         \"how'd'y\": \"how do you\", \"how'll\": \"how will\", \"how's\": \"how is\",\n",
    "         \"I'd\": \"I would\", \"I'd've\": \"I would have\", \"I'll\": \"I will\", \n",
    "         \"I'll've\": \"I will have\", \"I'm\": \"I am\", \"I've\": \"I have\", \n",
    "         \"isn't\": \"is not\", \"it'd\": \"it would\", \"it'd've\": \"it would have\", \n",
    "         \"it'll\": \"it will\", \"it'll've\": \"it will have\", \"it's\": \"it is\", \n",
    "         \"let's\": \"let us\", \"ma'am\": \"madam\", \"mayn't\": \"may not\", \n",
    "         \"might've\": \"might have\", \"mightn't\": \"might not\", \n",
    "         \"mightn't've\": \"might not have\", \"must've\": \"must have\", \n",
    "         \"mustn't\": \"must not\", \"mustn't've\": \"must not have\", \n",
    "         \"needn't\": \"need not\", \"needn't've\": \"need not have\",\n",
    "         \"o'clock\": \"of the clock\", \"oughtn't\": \"ought not\", \n",
    "         \"oughtn't've\": \"ought not have\", \"shan't\": \"shall not\", \n",
    "         \"sha'n't\": \"shall not\", \"shan't've\": \"shall not have\", \n",
    "         \"she'd\": \"she would\", \"she'd've\": \"she would have\", \n",
    "         \"she'll\": \"she will\", \"she'll've\": \"she will have\",\n",
    "         \"she's\": \"she is\", \"should've\": \"should have\", \n",
    "         \"shouldn't\": \"should not\", \"shouldn't've\": \"should not have\", \n",
    "         \"so've\": \"so have\", \"so's\": \"so is\", \n",
    "         \"that'd\": \"that had\", \"that'd've\": \"that would have\", \n",
    "         \"that's\": \"that that is\", \"there'd\": \"there would\", \n",
    "         \"there'd've\": \"there would have\", \"there's\": \"there is\", \n",
    "         \"they'd\": \"they would\", \"they'd've\": \"they would have\", \n",
    "         \"they'll\": \"they will\", \"they'll've\": \"they will have\", \n",
    "         \"they're\": \"they are\", \"they've\": \"they have\", \n",
    "         \"to've\": \"to have\", \"wasn't\": \"was not\", \"we'd\": \"we would\", \n",
    "         \"we'd've\": \"we would have\", \"we'll\": \"we will\", \n",
    "         \"we'll've\": \"we will have\", \"we're\": \"we are\", \n",
    "         \"we've\": \"we have\", \"weren't\": \"were not\", \n",
    "         \"what'll\": \"what will\", \"what'll've\": \"what will have\", \n",
    "         \"what're\": \"what are\", \"what's\": \"what is\", \n",
    "         \"what've\": \"what have\", \"when's\": \"when is\", \n",
    "         \"when've\": \"when have\", \"where'd\": \"where did\", \n",
    "         \"where's\": \"where is\", \"where've\": \"where have\", \n",
    "         \"who'll\": \"who will\", \"who'll've\": \"who will have\", \n",
    "         \"who's\": \"who is\", \"who've\": \"who have\", \n",
    "         \"why's\": \"why is\", \"why've\": \"why have\", \"will've\": \"will have\", \n",
    "         \"won't\": \"will not\", \"won't've\": \"will not have\",\n",
    "         \"would've\": \"would have\", \"wouldn't\": \"would not\", \n",
    "         \"wouldn't've\": \"would not have\", \"y'all\": \"you all\", \n",
    "         \"y'all'd\": \"you all would\", \"y'all'd've\": \"you all would have\", \n",
    "         \"y'all're\": \"you all are\", \"y'all've\": \"you all have\", \n",
    "         \"you'd\": \"you would\", \"you'd've\": \"you would have\",\n",
    "         \"you'll\": \"you will\", \"you'll've\": \"you will have\", \n",
    "         \"you're\": \"you are\", \"you've\": \"you have\"}"
   ]
  },
  {
   "cell_type": "code",
   "execution_count": null,
   "metadata": {
    "id": "8TZgghnoa_ej"
   },
   "outputs": [],
   "source": [
    "# Helper function to replace appos\n",
    "def replace_words(headline):\n",
    "    cleaned_headlines = []\n",
    "    for word in str(headline).split():\n",
    "        if word.lower() in appos.keys():\n",
    "            cleaned_headlines.append(appos[word.lower()])\n",
    "        else:\n",
    "            cleaned_headlines.append(word)\n",
    "    return ' '.join(cleaned_headlines)\n",
    "\n",
    "# Helper function to remove punctuations\n",
    "# Reference: https://www.programiz.com/python-programming/methods/string/translate\n",
    "PUNCT_TO_REMOVE = '!\"#$%&\\'()*+,-./:;<=>?@[\\\\]^_`{|}~' #string.punctuation\n",
    "def remove_punctuation(text):\n",
    "    \"\"\"function to remove the punctuation\"\"\"\n",
    "    return text.translate(str.maketrans('', '', PUNCT_TO_REMOVE))\n",
    "\n",
    "# Helper function to lemmatize\n",
    "lemmatizer = WordNetLemmatizer()\n",
    "def lemmatize(text):\n",
    "    return ''.join([lemmatizer.lemmatize(word) for word in text])\n",
    "\n",
    "# Helper function to remove stopwords\n",
    "stoplist = set(stopwords.words('english'))\n",
    "stoplist.remove('not')\n",
    "def remove_stopwords(text):\n",
    "    \"\"\"function to remove the stopwords\"\"\"\n",
    "    return \" \".join([word for word in str(text).split() if word not in stoplist])\n",
    "# Second helper function for lemmatizing\n",
    "lemmatizer = WordNetLemmatizer()\n",
    "def lem(text):\n",
    "    pos_dict = {'N': wn.NOUN, 'V': wn.VERB, 'J': wn.ADJ, 'R': wn.ADV}\n",
    "    return(' '.join([lemmatizer.lemmatize(w,pos_dict.get(t, wn.NOUN)) for w,t in nltk.pos_tag(text.split())]))\n",
    "# Helper function for wordcloud\n",
    "# Reference: https://www.kaggle.com/aashita/word-clouds-of-various-shapes\n",
    "def plot_wordcloud(text, mask = None, max_words = 500, max_font_size = 40, \n",
    "                   figure_size = (12, 6), title = None, title_size = 15):\n",
    "    wordcloud = WordCloud(background_color = 'white', max_words = max_words,\n",
    "                          random_state = 42, width = 350, height = 150, \n",
    "                          mask = mask, stopwords = stoplist, collocations = False)\n",
    "    wordcloud.generate(str(text))\n",
    "    \n",
    "    plt.figure(figsize = figure_size)\n",
    "    plt.imshow(wordcloud, interpolation = 'bilinear');\n",
    "    plt.title(title, fontdict = {'size': title_size, 'color': 'black', \n",
    "                               'verticalalignment': 'bottom'})\n",
    "    plt.axis('off');\n",
    "    plt.tight_layout()"
   ]
  },
  {
   "cell_type": "code",
   "execution_count": null,
   "metadata": {
    "id": "XbeX-NyVbDaS"
   },
   "outputs": [],
   "source": [
    "print('--'*30); print('Converting headlines to lower case')\n",
    "data['cleaned_headline'] = data['headline'].apply(lambda x : x.lower())\n",
    "\n",
    "print('Replacing apostrophes to the standard lexicons')\n",
    "data['cleaned_headline'] = data['cleaned_headline'].apply(lambda x : replace_words(x))\n",
    "\n",
    "print('Removing punctuations')\n",
    "data['cleaned_headline'] = data['cleaned_headline'].apply(lambda x: remove_punctuation(x))\n",
    "\n",
    "print('Applying Lemmatizer')\n",
    "data['cleaned_headline'] = data['cleaned_headline'].apply(lambda x: lem(x))\n",
    "\n",
    "print('Removing multiple spaces between words')\n",
    "data['cleaned_headline'] = data['cleaned_headline'].apply(lambda x: re.sub(' +', ' ', x))\n",
    "\n",
    "# print('Removing stopwords')\n",
    "# data['cleaned_headline'] = data['cleaned_headline'].apply(lambda x: remove_stopwords(x))\n",
    "print('--'*30)"
   ]
  },
  {
   "cell_type": "code",
   "execution_count": null,
   "metadata": {
    "id": "Q54XegvabFl4"
   },
   "outputs": [],
   "source": [
    "# Get length of each line\n",
    "data['line_length'] = data['cleaned_headline'].str.len()\n",
    "print('--'*40); print('Get the length of each line, find the lines ranges'); \n",
    "print('Length of line ranges from', data['line_length'].min(), 'to', data['line_length'].max()); print('--'*40)\n",
    "\n",
    "print('Minimum line length: {}'.format(data['line_length'].min()))\n",
    "print('Maximum line length: {}'.format(data['line_length'].max()))\n",
    "print('Line with maximum length:\\n{}'.format(data[data['line_length'] == data['line_length'].max()]['cleaned_headline'].values[0]))"
   ]
  },
  {
   "cell_type": "code",
   "execution_count": null,
   "metadata": {
    "id": "2oFdT08GbgMN"
   },
   "outputs": [],
   "source": [
    "print('--'*40); print('Get the number of words, find the maximum number of words and print the maximum number of words'); \n",
    "# Get length of each line\n",
    "data['nb_words'] = data['cleaned_headline'].apply(lambda x: len(x.split(' ')))\n",
    "\n",
    "print('Minimum number of words: {}'.format(data['nb_words'].min()))\n",
    "print('Maximum number of words: {}'.format(data['nb_words'].max()))\n",
    "print('Line with maximum number of words: \\n{}'.format(data[data['nb_words'] == data['nb_words'].max()]['cleaned_headline'].values[0]))"
   ]
  },
  {
   "cell_type": "code",
   "execution_count": null,
   "metadata": {
    "id": "RKQ0qyQmbiaq"
   },
   "outputs": [],
   "source": [
    "print('Word Cloud of Sarcastic and Non-sarcastic Headlines')\n",
    "data['headline'] = data['headline'].fillna('')\n",
    "sarcastic_headlines = ' '.join(data.loc[data['is_sarcastic'] == 1, 'cleaned_headline'])\n",
    "plot_wordcloud(sarcastic_headlines, title = 'Word Cloud of Sarcastic Headlines')\n",
    "\n",
    "non_sarcastic_headlines = ' '.join(data.loc[data['is_sarcastic'] == 0, 'cleaned_headline'])\n",
    "plot_wordcloud(non_sarcastic_headlines, title = 'Word Cloud of Isn\\'t Sarcastic Headlines')"
   ]
  },
  {
   "cell_type": "markdown",
   "metadata": {
    "id": "7pw4VBrTbn_2"
   },
   "source": [
    "## 4. Define parameters"
   ]
  },
  {
   "cell_type": "code",
   "execution_count": null,
   "metadata": {
    "id": "IpzQ_bQBbkbl"
   },
   "outputs": [],
   "source": [
    "max_features = 10000\n",
    "maxlen = data['nb_words'].max()\n",
    "embedding_size = 50"
   ]
  },
  {
   "cell_type": "markdown",
   "metadata": {
    "id": "47e4eLi-btaO"
   },
   "source": [
    "## 5. Get indices for words"
   ]
  },
  {
   "cell_type": "code",
   "execution_count": null,
   "metadata": {
    "id": "KmagKZOubrtH"
   },
   "outputs": [],
   "source": [
    "tokenizer = Tokenizer(num_words = max_features)\n",
    "tokenizer.fit_on_texts(list(data['cleaned_headline']))"
   ]
  },
  {
   "cell_type": "markdown",
   "metadata": {
    "id": "g27EbG4Zbyfw"
   },
   "source": [
    "## 6. Create features and labels"
   ]
  },
  {
   "cell_type": "code",
   "execution_count": null,
   "metadata": {
    "colab": {
     "background_save": true
    },
    "id": "0qgckILhbwhy",
    "outputId": "51bea28c-1e08-415d-e148-8059e78d2320"
   },
   "outputs": [
    {
     "name": "stdout",
     "output_type": "stream",
     "text": [
      "Number of Samples: 28619\n",
      "Number of Labels: 28619\n",
      "\n",
      "First headline:\n",
      "[   0    0    0    0    0    0    0    0    0    0    0    0    0    0\n",
      "    0    0    0    0    0    0    0    0    0    0    0    0    0    0\n",
      "    0    0    0    0    0    0    0    0    0    0    0    0    0    0\n",
      "    0    0    0    0    0    0    0    0    0    0    0    0    0    0\n",
      "    0    0    0    0    0    0    0    0    0    0    0    0    0    0\n",
      "    0    0    0    0    0    0    0    0    0    0    0    0    0    0\n",
      "    0    0    0    0    0    0    0    0    0    0    0    0    0    0\n",
      "    0    0    0    0    0    0    0    0    0    0    0    0    0    0\n",
      "    0    0    0    0    0    0    0    0    0    0    0    0    0    0\n",
      "    0    0    0    0    0    0    0    0    0    0    0    0    0    0\n",
      "    0    0    0    0  326 2958 5781 2067    2  692 1093]\n",
      "\n",
      "Label of the first headline: 1\n"
     ]
    }
   ],
   "source": [
    "X = tokenizer.texts_to_sequences(data['cleaned_headline'])\n",
    "X = pad_sequences(X, maxlen = maxlen)\n",
    "y = np.asarray(data['is_sarcastic'])\n",
    "\n",
    "print(f'Number of Samples: {len(X)}')\n",
    "print(f'Number of Labels: {len(y)}')\n",
    "print(f'\\nFirst headline:\\n{X[0]}\\n\\nLabel of the first headline: {y[0]}')"
   ]
  },
  {
   "cell_type": "markdown",
   "metadata": {
    "id": "by2hFBanb4jP"
   },
   "source": [
    "## 7. Get vocab size"
   ]
  },
  {
   "cell_type": "code",
   "execution_count": null,
   "metadata": {
    "colab": {
     "background_save": true
    },
    "id": "VpoaJYpOb2iS",
    "outputId": "bca6c8de-9f20-4c14-c836-add5ca959178"
   },
   "outputs": [
    {
     "name": "stdout",
     "output_type": "stream",
     "text": [
      "Number of unique tokens: 26042\n"
     ]
    }
   ],
   "source": [
    "# Reserve padding (indexed zero)\n",
    "w2i = tokenizer.word_index\n",
    "vocab_size = len(w2i) + 1\n",
    "print(f'Number of unique tokens: {vocab_size}')\n"
   ]
  },
  {
   "cell_type": "markdown",
   "metadata": {
    "id": "akKrb5_Gb9Fv"
   },
   "source": [
    "### 8. Create a weight matrix using GloVe embeddings"
   ]
  },
  {
   "cell_type": "code",
   "execution_count": 69,
   "metadata": {
    "id": "N_3nHXhoVtRu"
   },
   "outputs": [],
   "source": [
    "f = open( \"/content/drive/MyDrive/NLP/glove.6B.50d.txt\", encoding=\"utf8\")\n",
    "embeddings = {}\n",
    "for o in f:\n",
    "    word = o.split(' ')[0]\n",
    "    embd = o.split(' ')[1:]\n",
    "    embd = np.asarray(embd, dtype = 'float32')\n",
    "    embeddings[word] = embd"
   ]
  },
  {
   "cell_type": "code",
   "execution_count": 70,
   "metadata": {
    "colab": {
     "base_uri": "https://localhost:8080/"
    },
    "id": "1URXYSinZTYu",
    "outputId": "c99f613c-4720-4272-a323-9935819f8bdb"
   },
   "outputs": [
    {
     "data": {
      "text/plain": [
       "250311"
      ]
     },
     "execution_count": 70,
     "metadata": {},
     "output_type": "execute_result"
    }
   ],
   "source": [
    "# Getting the minimum number of words\n",
    "num_words = min(max_features, vocab_size) + 1\n",
    "\n",
    "embedding_matrix = np.zeros((num_words, embedding_size))\n",
    "for word, i in tokenizer.word_index.items():\n",
    "    if i > max_features: continue\n",
    "    embedding_vector = embeddings.get(word)\n",
    "    if embedding_vector is not None:\n",
    "        embedding_matrix[i] = embedding_vector\n",
    "\n",
    "len(embeddings.values())"
   ]
  },
  {
   "cell_type": "code",
   "execution_count": 72,
   "metadata": {
    "colab": {
     "base_uri": "https://localhost:8080/"
    },
    "id": "4wGQcDvkYERd",
    "outputId": "4f90cf7c-31bd-4408-9746-a8594e7208ef"
   },
   "outputs": [
    {
     "name": "stdout",
     "output_type": "stream",
     "text": [
      "------------------------------------------------------------ \n",
      "Number of rows in training dataset: 22895\n",
      "Number of columns in training dataset: 151\n",
      "Number of unique words in training dataset: 9975\n",
      "------------------------------------------------------------ \n",
      "Number of rows in test dataset: 5724\n",
      "Number of columns in test dataset: 151\n",
      "Number of unique words in test dataset: 7640\n"
     ]
    }
   ],
   "source": [
    "x_train, x_test, y_train, y_test = train_test_split(X, y, test_size = 0.2, random_state = random_state, shuffle = True)\n",
    "\n",
    "print('---'*20, f'\\nNumber of rows in training dataset: {x_train.shape[0]}')\n",
    "print(f'Number of columns in training dataset: {x_train.shape[1]}')\n",
    "print(f'Number of unique words in training dataset: {len(np.unique(np.hstack(x_train)))}')\n",
    "\n",
    "print('---'*20, f'\\nNumber of rows in test dataset: {x_test.shape[0]}')\n",
    "print(f'Number of columns in test dataset: {x_test.shape[1]}')\n",
    "print(f'Number of unique words in test dataset: {len(np.unique(np.hstack(x_test)))}')"
   ]
  },
  {
   "cell_type": "code",
   "execution_count": 78,
   "metadata": {
    "colab": {
     "base_uri": "https://localhost:8080/"
    },
    "id": "cmMUkLrDZcVn",
    "outputId": "a7b1ec49-5b60-4e3a-a0a8-38f3ba49b39e"
   },
   "outputs": [
    {
     "name": "stdout",
     "output_type": "stream",
     "text": [
      "Model: \"sequential_3\"\n",
      "_________________________________________________________________\n",
      " Layer (type)                Output Shape              Param #   \n",
      "=================================================================\n",
      " embedding_2 (Embedding)     (None, 151, 50)           500050    \n",
      "                                                                 \n",
      " bidirectional_2 (Bidirectio  (None, 151, 256)         183296    \n",
      " nal)                                                            \n",
      "                                                                 \n",
      " global_max_pooling1d_1 (Glo  (None, 256)              0         \n",
      " balMaxPooling1D)                                                \n",
      "                                                                 \n",
      " dropout_3 (Dropout)         (None, 256)               0         \n",
      "                                                                 \n",
      " dense_3 (Dense)             (None, 128)               32896     \n",
      "                                                                 \n",
      " dropout_4 (Dropout)         (None, 128)               0         \n",
      "                                                                 \n",
      " dense_4 (Dense)             (None, 64)                8256      \n",
      "                                                                 \n",
      " dropout_5 (Dropout)         (None, 64)                0         \n",
      "                                                                 \n",
      " dense_5 (Dense)             (None, 1)                 65        \n",
      "                                                                 \n",
      "=================================================================\n",
      "Total params: 724,563\n",
      "Trainable params: 224,513\n",
      "Non-trainable params: 500,050\n",
      "_________________________________________________________________\n",
      "None\n"
     ]
    }
   ],
   "source": [
    "model = Sequential()\n",
    "model.add(Embedding(num_words, embedding_size, embeddings_initializer = Constant(embedding_matrix), input_length = maxlen, trainable = False))\n",
    "model.add(Bidirectional(LSTM(128, return_sequences = True)))\n",
    "model.add(GlobalMaxPool1D())\n",
    "model.add(Dropout(0.5, input_shape = (256,)))\n",
    "model.add(Dense(128, activation = 'relu'))\n",
    "model.add(Dropout(0.5, input_shape = (128,)))\n",
    "model.add(Dense(64, activation = 'relu'))\n",
    "model.add(Dropout(0.5, input_shape = (64,)))\n",
    "model.add(Dense(1, activation = 'sigmoid'))\n",
    "\n",
    "model.compile(loss = 'binary_crossentropy', optimizer = 'adam', metrics = ['accuracy'])\n",
    "\n",
    "# Adding callbacks\n",
    "es = EarlyStopping(monitor = 'val_loss', mode = 'min', verbose = 1, patience = 10)  \n",
    "mc = ModelCheckpoint('sarcasm_detector.h5', monitor = 'val_loss', mode = 'min', save_best_only = True, verbose = 1)\n",
    "lr_r = ReduceLROnPlateau(monitor = 'val_loss', factor = 0.1, patience = 5)\n",
    "logdir = 'log'; tb = TensorBoard(logdir, histogram_freq = 1)\n",
    "callbacks = [es, mc, lr_r, tb]\n",
    "\n",
    "print(model.summary())"
   ]
  },
  {
   "cell_type": "code",
   "execution_count": 79,
   "metadata": {
    "colab": {
     "base_uri": "https://localhost:8080/"
    },
    "id": "b31bfim9Ze3R",
    "outputId": "5c398cdd-c8d8-4d64-a442-4c496563c9d4"
   },
   "outputs": [
    {
     "name": "stdout",
     "output_type": "stream",
     "text": [
      "Epoch 1/6\n",
      "\n",
      "Epoch 00001: val_loss improved from inf to 0.55546, saving model to sarcasm_detector.h5\n",
      "184/184 - 27s - loss: 0.6541 - accuracy: 0.6017 - val_loss: 0.5555 - val_accuracy: 0.7283 - lr: 0.0010 - 27s/epoch - 145ms/step\n",
      "Epoch 2/6\n",
      "\n",
      "Epoch 00002: val_loss improved from 0.55546 to 0.46603, saving model to sarcasm_detector.h5\n",
      "184/184 - 14s - loss: 0.5414 - accuracy: 0.7365 - val_loss: 0.4660 - val_accuracy: 0.7842 - lr: 0.0010 - 14s/epoch - 75ms/step\n",
      "Epoch 3/6\n",
      "\n",
      "Epoch 00003: val_loss improved from 0.46603 to 0.42357, saving model to sarcasm_detector.h5\n",
      "184/184 - 14s - loss: 0.4682 - accuracy: 0.7808 - val_loss: 0.4236 - val_accuracy: 0.8043 - lr: 0.0010 - 14s/epoch - 74ms/step\n",
      "Epoch 4/6\n",
      "\n",
      "Epoch 00004: val_loss improved from 0.42357 to 0.39631, saving model to sarcasm_detector.h5\n",
      "184/184 - 14s - loss: 0.4330 - accuracy: 0.8028 - val_loss: 0.3963 - val_accuracy: 0.8211 - lr: 0.0010 - 14s/epoch - 75ms/step\n",
      "Epoch 5/6\n",
      "\n",
      "Epoch 00005: val_loss improved from 0.39631 to 0.39186, saving model to sarcasm_detector.h5\n",
      "184/184 - 14s - loss: 0.4005 - accuracy: 0.8222 - val_loss: 0.3919 - val_accuracy: 0.8205 - lr: 0.0010 - 14s/epoch - 74ms/step\n",
      "Epoch 6/6\n",
      "\n",
      "Epoch 00006: val_loss did not improve from 0.39186\n",
      "184/184 - 13s - loss: 0.3781 - accuracy: 0.8353 - val_loss: 0.3926 - val_accuracy: 0.8166 - lr: 0.0010 - 13s/epoch - 73ms/step\n"
     ]
    }
   ],
   "source": [
    "batch_size = 100\n",
    "epochs = 6\n",
    "\n",
    "h = model.fit(x_train, y_train, epochs = epochs, validation_split = 0.2, batch_size = batch_size, verbose = 2, callbacks = callbacks)"
   ]
  },
  {
   "cell_type": "code",
   "execution_count": 80,
   "metadata": {
    "colab": {
     "base_uri": "https://localhost:8080/",
     "height": 491
    },
    "id": "mqxPDOlhaN0p",
    "outputId": "9258b1c8-bf3b-48a6-a92f-0ad76ff326a5"
   },
   "outputs": [
    {
     "data": {
      "image/png": "[encoded data removed]",
      "text/plain": [
       "<Figure size 1080x518.4 with 2 Axes>"
      ]
     },
     "metadata": {
      "needs_background": "light"
     },
     "output_type": "display_data"
    }
   ],
   "source": [
    "f, (ax1, ax2) = plt.subplots(1, 2, figsize = (15, 7.2))\n",
    "f.suptitle('Monitoring the performance of the model')\n",
    "\n",
    "ax1.plot(h.history['loss'], label = 'Train')\n",
    "ax1.plot(h.history['val_loss'], label = 'Test')\n",
    "ax1.set_title('Model Loss')\n",
    "ax1.legend(['Train', 'Test'])\n",
    "\n",
    "ax2.plot(h.history['accuracy'], label = 'Train')\n",
    "ax2.plot(h.history['val_accuracy'], label = 'Test')\n",
    "ax2.set_title('Model Accuracy')\n",
    "ax2.legend(['Train', 'Test'])\n",
    "\n",
    "plt.show()"
   ]
  },
  {
   "cell_type": "code",
   "execution_count": 81,
   "metadata": {
    "colab": {
     "base_uri": "https://localhost:8080/"
    },
    "id": "52gezBr6atct",
    "outputId": "c9f25a9b-6fbf-4c3c-e9ac-4accd943c557"
   },
   "outputs": [
    {
     "name": "stdout",
     "output_type": "stream",
     "text": [
      "Overall Accuracy: 82.0\n"
     ]
    }
   ],
   "source": [
    "# Evaluate the model\n",
    "loss, accuracy = model.evaluate(x_test, y_test, verbose = 0)\n",
    "print('Overall Accuracy: {}'.format(round(accuracy * 100, 0)))\n"
   ]
  },
  {
   "cell_type": "code",
   "execution_count": 82,
   "metadata": {
    "colab": {
     "base_uri": "https://localhost:8080/"
    },
    "id": "IXcfl_yhauz2",
    "outputId": "e250b26e-2147-49f3-9432-2c0434e433af"
   },
   "outputs": [
    {
     "name": "stdout",
     "output_type": "stream",
     "text": [
      "Classification Report:\n",
      "              precision    recall  f1-score   support\n",
      "\n",
      "           0       0.88      0.79      0.83      3346\n",
      "           1       0.74      0.85      0.79      2378\n",
      "\n",
      "    accuracy                           0.82      5724\n",
      "   macro avg       0.81      0.82      0.81      5724\n",
      "weighted avg       0.82      0.82      0.82      5724\n",
      "\n"
     ]
    }
   ],
   "source": [
    "y_pred = (model.predict(x_test) > 0.5).astype('int32')\n",
    "print(f'Classification Report:\\n{classification_report(y_pred, y_test)}')\n",
    "\n"
   ]
  },
  {
   "cell_type": "code",
   "execution_count": 83,
   "metadata": {
    "colab": {
     "base_uri": "https://localhost:8080/",
     "height": 486
    },
    "id": "2oL-Uff2awaN",
    "outputId": "037d96d7-e269-4014-ea4f-4b7d06ffbc2c"
   },
   "outputs": [
    {
     "name": "stdout",
     "output_type": "stream",
     "text": [
      "------------------------------------------------------------\n",
      "Confusion Matrix\n"
     ]
    },
    {
     "data": {
      "text/html": [
       "\n",
       "  <div id=\"df-3cd532fd-a479-4359-9dd2-ef5a87978654\">\n",
       "    <div class=\"colab-df-container\">\n",
       "      <div>\n",
       "<style scoped>\n",
       "    .dataframe tbody tr th:only-of-type {\n",
       "        vertical-align: middle;\n",
       "    }\n",
       "\n",
       "    .dataframe tbody tr th {\n",
       "        vertical-align: top;\n",
       "    }\n",
       "\n",
       "    .dataframe thead th {\n",
       "        text-align: right;\n",
       "    }\n",
       "</style>\n",
       "<table border=\"1\" class=\"dataframe\">\n",
       "  <thead>\n",
       "    <tr style=\"text-align: right;\">\n",
       "      <th></th>\n",
       "      <th>Non-sarcastic</th>\n",
       "      <th>Sarcastic</th>\n",
       "    </tr>\n",
       "  </thead>\n",
       "  <tbody>\n",
       "    <tr>\n",
       "      <th>Non-sarcastic</th>\n",
       "      <td>2644</td>\n",
       "      <td>351</td>\n",
       "    </tr>\n",
       "    <tr>\n",
       "      <th>Sarcastic</th>\n",
       "      <td>702</td>\n",
       "      <td>2027</td>\n",
       "    </tr>\n",
       "  </tbody>\n",
       "</table>\n",
       "</div>\n",
       "      <button class=\"colab-df-convert\" onclick=\"convertToInteractive('df-3cd532fd-a479-4359-9dd2-ef5a87978654')\"\n",
       "              title=\"Convert this dataframe to an interactive table.\"\n",
       "              style=\"display:none;\">\n",
       "        \n",
       "  <svg xmlns=\"http://www.w3.org/2000/svg\" height=\"24px\"viewBox=\"0 0 24 24\"\n",
       "       width=\"24px\">\n",
       "    <path d=\"M0 0h24v24H0V0z\" fill=\"none\"/>\n",
       "    <path d=\"M18.56 5.44l.94 2.06.94-2.06 2.06-.94-2.06-.94-.94-2.06-.94 2.06-2.06.94zm-11 1L8.5 8.5l.94-2.06 2.06-.94-2.06-.94L8.5 2.5l-.94 2.06-2.06.94zm10 10l.94 2.06.94-2.06 2.06-.94-2.06-.94-.94-2.06-.94 2.06-2.06.94z\"/><path d=\"M17.41 7.96l-1.37-1.37c-.4-.4-.92-.59-1.43-.59-.52 0-1.04.2-1.43.59L10.3 9.45l-7.72 7.72c-.78.78-.78 2.05 0 2.83L4 21.41c.39.39.9.59 1.41.59.51 0 1.02-.2 1.41-.59l7.78-7.78 2.81-2.81c.8-.78.8-2.07 0-2.86zM5.41 20L4 18.59l7.72-7.72 1.47 1.35L5.41 20z\"/>\n",
       "  </svg>\n",
       "      </button>\n",
       "      \n",
       "  <style>\n",
       "    .colab-df-container {\n",
       "      display:flex;\n",
       "      flex-wrap:wrap;\n",
       "      gap: 12px;\n",
       "    }\n",
       "\n",
       "    .colab-df-convert {\n",
       "      background-color: #E8F0FE;\n",
       "      border: none;\n",
       "      border-radius: 50%;\n",
       "      cursor: pointer;\n",
       "      display: none;\n",
       "      fill: #1967D2;\n",
       "      height: 32px;\n",
       "      padding: 0 0 0 0;\n",
       "      width: 32px;\n",
       "    }\n",
       "\n",
       "    .colab-df-convert:hover {\n",
       "      background-color: #E2EBFA;\n",
       "      box-shadow: 0px 1px 2px rgba(60, 64, 67, 0.3), 0px 1px 3px 1px rgba(60, 64, 67, 0.15);\n",
       "      fill: #174EA6;\n",
       "    }\n",
       "\n",
       "    [theme=dark] .colab-df-convert {\n",
       "      background-color: #3B4455;\n",
       "      fill: #D2E3FC;\n",
       "    }\n",
       "\n",
       "    [theme=dark] .colab-df-convert:hover {\n",
       "      background-color: #434B5C;\n",
       "      box-shadow: 0px 1px 3px 1px rgba(0, 0, 0, 0.15);\n",
       "      filter: drop-shadow(0px 1px 2px rgba(0, 0, 0, 0.3));\n",
       "      fill: #FFFFFF;\n",
       "    }\n",
       "  </style>\n",
       "\n",
       "      <script>\n",
       "        const buttonEl =\n",
       "          document.querySelector('#df-3cd532fd-a479-4359-9dd2-ef5a87978654 button.colab-df-convert');\n",
       "        buttonEl.style.display =\n",
       "          google.colab.kernel.accessAllowed ? 'block' : 'none';\n",
       "\n",
       "        async function convertToInteractive(key) {\n",
       "          const element = document.querySelector('#df-3cd532fd-a479-4359-9dd2-ef5a87978654');\n",
       "          const dataTable =\n",
       "            await google.colab.kernel.invokeFunction('convertToInteractive',\n",
       "                                                     [key], {});\n",
       "          if (!dataTable) return;\n",
       "\n",
       "          const docLinkHtml = 'Like what you see? Visit the ' +\n",
       "            '<a target=\"_blank\" href=https://colab.research.google.com/notebooks/data_table.ipynb>data table notebook</a>'\n",
       "            + ' to learn more about interactive tables.';\n",
       "          element.innerHTML = '';\n",
       "          dataTable['output_type'] = 'display_data';\n",
       "          await google.colab.output.renderOutput(dataTable, element);\n",
       "          const docLink = document.createElement('div');\n",
       "          docLink.innerHTML = docLinkHtml;\n",
       "          element.appendChild(docLink);\n",
       "        }\n",
       "      </script>\n",
       "    </div>\n",
       "  </div>\n",
       "  "
      ],
      "text/plain": [
       "               Non-sarcastic  Sarcastic\n",
       "Non-sarcastic           2644        351\n",
       "Sarcastic                702       2027"
      ]
     },
     "metadata": {},
     "output_type": "display_data"
    },
    {
     "name": "stdout",
     "output_type": "stream",
     "text": [
      "------------------------------------------------------------\n"
     ]
    },
    {
     "data": {
      "image/png": "[encoded data removed]",
      "text/plain": [
       "<Figure size 576x360 with 2 Axes>"
      ]
     },
     "metadata": {
      "needs_background": "light"
     },
     "output_type": "display_data"
    }
   ],
   "source": [
    "print('--'*30); print('Confusion Matrix')\n",
    "cm = confusion_matrix(y_test, y_pred)\n",
    "cm = pd.DataFrame(cm , index = ['Non-sarcastic', 'Sarcastic'] , columns = ['Non-sarcastic','Sarcastic'])\n",
    "display(cm); print('--'*30)\n",
    "\n",
    "plt.figure(figsize = (8, 5))\n",
    "_ = sns.heatmap(cm, cmap= 'Greens', linecolor = 'black' , linewidth = 1 , annot = True, \n",
    "            fmt = '' , xticklabels = ['Non-sarcastic', 'Sarcastic'], \n",
    "            yticklabels = ['Non-sarcastic', 'Sarcastic']).set_title('Confusion Matrix')"
   ]
  },
  {
   "cell_type": "markdown",
   "metadata": {
    "id": "ewvGFb9Ca1Bv"
   },
   "source": [
    "\n",
    "## Conclusion\n",
    "\n",
    "- Model achieved 83.53% accuracy on the test set\n",
    "- classification report and confusion matrix were also printed"
   ]
  }
 ],
 "metadata": {
  "accelerator": "GPU",
  "colab": {
   "collapsed_sections": [],
   "name": "NLP_Project_2.pynb",
   "provenance": []
  },
  "kernelspec": {
   "display_name": "Python 3",
   "language": "python",
   "name": "python3"
  },
  "language_info": {
   "codemirror_mode": {
    "name": "ipython",
    "version": 3
   },
   "file_extension": ".py",
   "mimetype": "text/x-python",
   "name": "python",
   "nbconvert_exporter": "python",
   "pygments_lexer": "ipython3",
   "version": "3.8.5"
  }
 },
 "nbformat": 4,
 "nbformat_minor": 1
}
