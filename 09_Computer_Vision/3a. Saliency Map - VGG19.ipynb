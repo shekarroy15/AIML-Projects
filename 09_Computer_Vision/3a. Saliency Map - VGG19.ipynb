{
 "cells": [
  {
   "cell_type": "markdown",
   "metadata": {},
   "source": [
    "### Load VGG19 Model"
   ]
  },
  {
   "cell_type": "code",
   "execution_count": null,
   "metadata": {},
   "outputs": [],
   "source": [
    "import warnings\n",
    "warnings.filterwarnings('ignore')"
   ]
  },
  {
   "cell_type": "code",
   "execution_count": null,
   "metadata": {},
   "outputs": [],
   "source": [
    "import tensorflow as tf\n",
    "model = tf.keras.applications.vgg19.VGG19(weights='imagenet')"
   ]
  },
  {
   "cell_type": "markdown",
   "metadata": {},
   "source": [
    "### Load an Image"
   ]
  },
  {
   "cell_type": "code",
   "execution_count": null,
   "metadata": {},
   "outputs": [],
   "source": [
    "img = tf.keras.preprocessing.image.load_img('dog.jpeg')\n",
    "img"
   ]
  },
  {
   "cell_type": "markdown",
   "metadata": {},
   "source": [
    "### Prediction"
   ]
  },
  {
   "cell_type": "code",
   "execution_count": null,
   "metadata": {},
   "outputs": [],
   "source": [
    "import numpy as np"
   ]
  },
  {
   "cell_type": "code",
   "execution_count": null,
   "metadata": {},
   "outputs": [],
   "source": [
    "#Prepare image prediction\n",
    "img_array = tf.keras.preprocessing.image.img_to_array(img.resize((224, 224)))\n",
    "\n",
    "#Normalize the image\n",
    "img_array[:,:,0] -= 103.939\n",
    "img_array[:,:,1] -= 116.779\n",
    "img_array[:,:,2] -= 123.68\n",
    "\n",
    "#Create a batch\n",
    "img_array = np.expand_dims(img_array, axis=0)\n",
    "\n",
    "#Get the prediction\n",
    "prediction = model.predict(img_array)\n",
    "\n",
    "#Get the index with highest probability\n",
    "pred_index = np.argmax(prediction[0])\n",
    "\n",
    "#Decode prediction\n",
    "prediction = tf.keras.applications.vgg19.decode_predictions(prediction)\n",
    "\n",
    "pred_index, prediction"
   ]
  },
  {
   "cell_type": "markdown",
   "metadata": {},
   "source": [
    "ImageNet Class IDs\n",
    "- https://gist.github.com/yrevar/942d3a0ac09ec9e5eb3a"
   ]
  },
  {
   "cell_type": "markdown",
   "metadata": {},
   "source": [
    "### Building Saliency Maps"
   ]
  },
  {
   "cell_type": "markdown",
   "metadata": {},
   "source": [
    "Access model input and output"
   ]
  },
  {
   "cell_type": "code",
   "execution_count": null,
   "metadata": {},
   "outputs": [],
   "source": [
    "input_img = model.input\n",
    "model_output = model.output"
   ]
  },
  {
   "cell_type": "markdown",
   "metadata": {},
   "source": [
    "What should be the loss?"
   ]
  },
  {
   "cell_type": "code",
   "execution_count": null,
   "metadata": {},
   "outputs": [],
   "source": [
    "loss = tf.keras.backend.mean(model_output[:,258])"
   ]
  },
  {
   "cell_type": "markdown",
   "metadata": {},
   "source": [
    "Calculate Gradients"
   ]
  },
  {
   "cell_type": "code",
   "execution_count": null,
   "metadata": {},
   "outputs": [],
   "source": [
    "#Gradient of loss w.r.t input image\n",
    "grads = tf.keras.backend.gradients(loss, input_img)[0]\n",
    "\n",
    "#Gradient normalization\n",
    "K = tf.keras.backend\n",
    "grads /= K.sqrt(K.mean(K.square(grads))) + K.epsilon()\n",
    "\n",
    "#Define function to run Graph\n",
    "iterate = K.function([input_img], [loss, grads])"
   ]
  },
  {
   "cell_type": "code",
   "execution_count": null,
   "metadata": {},
   "outputs": [],
   "source": [
    "loss_value, grads_value = iterate([img_array])"
   ]
  },
  {
   "cell_type": "markdown",
   "metadata": {},
   "source": [
    "### Plot Gradients as Saliency Map"
   ]
  },
  {
   "cell_type": "code",
   "execution_count": null,
   "metadata": {},
   "outputs": [],
   "source": [
    "import matplotlib.pyplot as plt"
   ]
  },
  {
   "cell_type": "code",
   "execution_count": null,
   "metadata": {},
   "outputs": [],
   "source": [
    "plt.figure(figsize=(15,12))\n",
    "plt.subplot(1,2,1)\n",
    "plt.imshow(img.resize((224,224)))\n",
    "plt.subplot(1,2,2)\n",
    "plt.imshow(grads_value[0], cmap='jet')\n",
    "plt.show()"
   ]
  }
 ],
 "metadata": {
  "kernelspec": {
   "display_name": "Python 3",
   "language": "python",
   "name": "python3"
  },
  "language_info": {
   "codemirror_mode": {
    "name": "ipython",
    "version": 3
   },
   "file_extension": ".py",
   "mimetype": "text/x-python",
   "name": "python",
   "nbconvert_exporter": "python",
   "pygments_lexer": "ipython3",
   "version": "3.6.7"
  }
 },
 "nbformat": 4,
 "nbformat_minor": 2
}
