{
 "cells": [
  {
   "cell_type": "markdown",
   "metadata": {
    "id": "E8Cr_8mxAoXv"
   },
   "source": [
    "# Neural network basics\n",
    "----"
   ]
  },
  {
   "cell_type": "markdown",
   "metadata": {
    "id": "EW_K9epZzhSr"
   },
   "source": [
    "### Package Version\n",
    "- tensorflow==2.3.0\n",
    "- scikit-learn==0.22.2.post1\n",
    "- pandas==1.1.4"
   ]
  },
  {
   "cell_type": "markdown",
   "metadata": {
    "id": "6vb8VyrqAoXy"
   },
   "source": [
    "## Given a Bank customer, can we build a classifier which can determine whether they will leave or not using Neural networks?\n",
    "The case study is from an open source dataset from Kaggle.\n",
    "\n",
    "Link to the Kaggle project site:\n",
    "https://www.kaggle.com/barelydedicated/bank-customer-churn-modeling"
   ]
  },
  {
   "cell_type": "markdown",
   "metadata": {
    "id": "UvmWcU4Y2MCO"
   },
   "source": [
    "### Read the dataset"
   ]
  },
  {
   "cell_type": "code",
   "execution_count": null,
   "metadata": {
    "colab": {
     "base_uri": "https://localhost:8080/"
    },
    "id": "s3vEBrZfs2jD",
    "outputId": "6008c585-035c-4bd3-d584-1b3a7db4889c"
   },
   "outputs": [
    {
     "name": "stdout",
     "output_type": "stream",
     "text": [
      "Drive already mounted at /content/drive; to attempt to forcibly remount, call drive.mount(\"/content/drive\", force_remount=True).\n"
     ]
    }
   ],
   "source": [
    "from google.colab import drive\n",
    "drive.mount('/content/drive')"
   ]
  },
  {
   "cell_type": "code",
   "execution_count": null,
   "metadata": {
    "id": "kybBDG1V2MCP"
   },
   "outputs": [],
   "source": [
    "import pandas as pd\n",
    "\n",
    "ds = pd.read_csv(\"/content/drive/MyDrive/Churn_Modelling.csv\")"
   ]
  },
  {
   "cell_type": "code",
   "execution_count": null,
   "metadata": {
    "colab": {
     "base_uri": "https://localhost:8080/",
     "height": 368
    },
    "id": "rPnhjSxC2MCS",
    "outputId": "39c894e4-2c26-4673-e026-aa92ecb92352"
   },
   "outputs": [
    {
     "data": {
      "text/html": [
       "<div>\n",
       "<style scoped>\n",
       "    .dataframe tbody tr th:only-of-type {\n",
       "        vertical-align: middle;\n",
       "    }\n",
       "\n",
       "    .dataframe tbody tr th {\n",
       "        vertical-align: top;\n",
       "    }\n",
       "\n",
       "    .dataframe thead th {\n",
       "        text-align: right;\n",
       "    }\n",
       "</style>\n",
       "<table border=\"1\" class=\"dataframe\">\n",
       "  <thead>\n",
       "    <tr style=\"text-align: right;\">\n",
       "      <th></th>\n",
       "      <th>RowNumber</th>\n",
       "      <th>CustomerId</th>\n",
       "      <th>Surname</th>\n",
       "      <th>CreditScore</th>\n",
       "      <th>Geography</th>\n",
       "      <th>Gender</th>\n",
       "      <th>Age</th>\n",
       "      <th>Tenure</th>\n",
       "      <th>Balance</th>\n",
       "      <th>NumOfProducts</th>\n",
       "      <th>HasCrCard</th>\n",
       "      <th>IsActiveMember</th>\n",
       "      <th>EstimatedSalary</th>\n",
       "      <th>Exited</th>\n",
       "    </tr>\n",
       "  </thead>\n",
       "  <tbody>\n",
       "    <tr>\n",
       "      <th>0</th>\n",
       "      <td>1</td>\n",
       "      <td>15634602</td>\n",
       "      <td>Hargrave</td>\n",
       "      <td>619</td>\n",
       "      <td>France</td>\n",
       "      <td>Female</td>\n",
       "      <td>42</td>\n",
       "      <td>2</td>\n",
       "      <td>0.00</td>\n",
       "      <td>1</td>\n",
       "      <td>1</td>\n",
       "      <td>1</td>\n",
       "      <td>101348.88</td>\n",
       "      <td>1</td>\n",
       "    </tr>\n",
       "    <tr>\n",
       "      <th>1</th>\n",
       "      <td>2</td>\n",
       "      <td>15647311</td>\n",
       "      <td>Hill</td>\n",
       "      <td>608</td>\n",
       "      <td>Spain</td>\n",
       "      <td>Female</td>\n",
       "      <td>41</td>\n",
       "      <td>1</td>\n",
       "      <td>83807.86</td>\n",
       "      <td>1</td>\n",
       "      <td>0</td>\n",
       "      <td>1</td>\n",
       "      <td>112542.58</td>\n",
       "      <td>0</td>\n",
       "    </tr>\n",
       "    <tr>\n",
       "      <th>2</th>\n",
       "      <td>3</td>\n",
       "      <td>15619304</td>\n",
       "      <td>Onio</td>\n",
       "      <td>502</td>\n",
       "      <td>France</td>\n",
       "      <td>Female</td>\n",
       "      <td>42</td>\n",
       "      <td>8</td>\n",
       "      <td>159660.80</td>\n",
       "      <td>3</td>\n",
       "      <td>1</td>\n",
       "      <td>0</td>\n",
       "      <td>113931.57</td>\n",
       "      <td>1</td>\n",
       "    </tr>\n",
       "    <tr>\n",
       "      <th>3</th>\n",
       "      <td>4</td>\n",
       "      <td>15701354</td>\n",
       "      <td>Boni</td>\n",
       "      <td>699</td>\n",
       "      <td>France</td>\n",
       "      <td>Female</td>\n",
       "      <td>39</td>\n",
       "      <td>1</td>\n",
       "      <td>0.00</td>\n",
       "      <td>2</td>\n",
       "      <td>0</td>\n",
       "      <td>0</td>\n",
       "      <td>93826.63</td>\n",
       "      <td>0</td>\n",
       "    </tr>\n",
       "    <tr>\n",
       "      <th>4</th>\n",
       "      <td>5</td>\n",
       "      <td>15737888</td>\n",
       "      <td>Mitchell</td>\n",
       "      <td>850</td>\n",
       "      <td>Spain</td>\n",
       "      <td>Female</td>\n",
       "      <td>43</td>\n",
       "      <td>2</td>\n",
       "      <td>125510.82</td>\n",
       "      <td>1</td>\n",
       "      <td>1</td>\n",
       "      <td>1</td>\n",
       "      <td>79084.10</td>\n",
       "      <td>0</td>\n",
       "    </tr>\n",
       "    <tr>\n",
       "      <th>5</th>\n",
       "      <td>6</td>\n",
       "      <td>15574012</td>\n",
       "      <td>Chu</td>\n",
       "      <td>645</td>\n",
       "      <td>Spain</td>\n",
       "      <td>Male</td>\n",
       "      <td>44</td>\n",
       "      <td>8</td>\n",
       "      <td>113755.78</td>\n",
       "      <td>2</td>\n",
       "      <td>1</td>\n",
       "      <td>0</td>\n",
       "      <td>149756.71</td>\n",
       "      <td>1</td>\n",
       "    </tr>\n",
       "    <tr>\n",
       "      <th>6</th>\n",
       "      <td>7</td>\n",
       "      <td>15592531</td>\n",
       "      <td>Bartlett</td>\n",
       "      <td>822</td>\n",
       "      <td>France</td>\n",
       "      <td>Male</td>\n",
       "      <td>50</td>\n",
       "      <td>7</td>\n",
       "      <td>0.00</td>\n",
       "      <td>2</td>\n",
       "      <td>1</td>\n",
       "      <td>1</td>\n",
       "      <td>10062.80</td>\n",
       "      <td>0</td>\n",
       "    </tr>\n",
       "    <tr>\n",
       "      <th>7</th>\n",
       "      <td>8</td>\n",
       "      <td>15656148</td>\n",
       "      <td>Obinna</td>\n",
       "      <td>376</td>\n",
       "      <td>Germany</td>\n",
       "      <td>Female</td>\n",
       "      <td>29</td>\n",
       "      <td>4</td>\n",
       "      <td>115046.74</td>\n",
       "      <td>4</td>\n",
       "      <td>1</td>\n",
       "      <td>0</td>\n",
       "      <td>119346.88</td>\n",
       "      <td>1</td>\n",
       "    </tr>\n",
       "    <tr>\n",
       "      <th>8</th>\n",
       "      <td>9</td>\n",
       "      <td>15792365</td>\n",
       "      <td>He</td>\n",
       "      <td>501</td>\n",
       "      <td>France</td>\n",
       "      <td>Male</td>\n",
       "      <td>44</td>\n",
       "      <td>4</td>\n",
       "      <td>142051.07</td>\n",
       "      <td>2</td>\n",
       "      <td>0</td>\n",
       "      <td>1</td>\n",
       "      <td>74940.50</td>\n",
       "      <td>0</td>\n",
       "    </tr>\n",
       "    <tr>\n",
       "      <th>9</th>\n",
       "      <td>10</td>\n",
       "      <td>15592389</td>\n",
       "      <td>H?</td>\n",
       "      <td>684</td>\n",
       "      <td>France</td>\n",
       "      <td>Male</td>\n",
       "      <td>27</td>\n",
       "      <td>2</td>\n",
       "      <td>134603.88</td>\n",
       "      <td>1</td>\n",
       "      <td>1</td>\n",
       "      <td>1</td>\n",
       "      <td>71725.73</td>\n",
       "      <td>0</td>\n",
       "    </tr>\n",
       "  </tbody>\n",
       "</table>\n",
       "</div>"
      ],
      "text/plain": [
       "   RowNumber  CustomerId   Surname  ...  IsActiveMember EstimatedSalary Exited\n",
       "0          1    15634602  Hargrave  ...               1       101348.88      1\n",
       "1          2    15647311      Hill  ...               1       112542.58      0\n",
       "2          3    15619304      Onio  ...               0       113931.57      1\n",
       "3          4    15701354      Boni  ...               0        93826.63      0\n",
       "4          5    15737888  Mitchell  ...               1        79084.10      0\n",
       "5          6    15574012       Chu  ...               0       149756.71      1\n",
       "6          7    15592531  Bartlett  ...               1        10062.80      0\n",
       "7          8    15656148    Obinna  ...               0       119346.88      1\n",
       "8          9    15792365        He  ...               1        74940.50      0\n",
       "9         10    15592389        H?  ...               1        71725.73      0\n",
       "\n",
       "[10 rows x 14 columns]"
      ]
     },
     "execution_count": 6,
     "metadata": {
      "tags": []
     },
     "output_type": "execute_result"
    }
   ],
   "source": [
    "ds.head(10)"
   ]
  },
  {
   "cell_type": "markdown",
   "metadata": {
    "id": "E5FCBQRi2MCX"
   },
   "source": [
    "### Drop the columns which are unique for all users like IDs"
   ]
  },
  {
   "cell_type": "code",
   "execution_count": null,
   "metadata": {
    "colab": {
     "base_uri": "https://localhost:8080/"
    },
    "id": "zjYdG1Me2MCY",
    "outputId": "81453961-bf73-4f58-f8b9-99c5f19c48bf"
   },
   "outputs": [
    {
     "data": {
      "text/plain": [
       "France     5014\n",
       "Germany    2509\n",
       "Spain      2477\n",
       "Name: Geography, dtype: int64"
      ]
     },
     "execution_count": 7,
     "metadata": {
      "tags": []
     },
     "output_type": "execute_result"
    }
   ],
   "source": [
    "ds['Geography'].value_counts()"
   ]
  },
  {
   "cell_type": "markdown",
   "metadata": {
    "id": "Vc0cjbTvAoYR"
   },
   "source": [
    "### RowNumber, CustomerId, and Surname are unique hence we are dropping it"
   ]
  },
  {
   "cell_type": "code",
   "execution_count": null,
   "metadata": {
    "id": "Zi8q9XEv2MCf"
   },
   "outputs": [],
   "source": [
    "ds = ds.drop(['RowNumber', 'CustomerId', 'Surname'], axis=1)"
   ]
  },
  {
   "cell_type": "code",
   "execution_count": null,
   "metadata": {
    "colab": {
     "base_uri": "https://localhost:8080/"
    },
    "id": "coCQRBbm2MCj",
    "outputId": "d3fbb631-c3b9-4669-c5a6-05e1551c9904"
   },
   "outputs": [
    {
     "name": "stdout",
     "output_type": "stream",
     "text": [
      "<class 'pandas.core.frame.DataFrame'>\n",
      "RangeIndex: 10000 entries, 0 to 9999\n",
      "Data columns (total 11 columns):\n",
      " #   Column           Non-Null Count  Dtype  \n",
      "---  ------           --------------  -----  \n",
      " 0   CreditScore      10000 non-null  int64  \n",
      " 1   Geography        10000 non-null  object \n",
      " 2   Gender           10000 non-null  object \n",
      " 3   Age              10000 non-null  int64  \n",
      " 4   Tenure           10000 non-null  int64  \n",
      " 5   Balance          10000 non-null  float64\n",
      " 6   NumOfProducts    10000 non-null  int64  \n",
      " 7   HasCrCard        10000 non-null  int64  \n",
      " 8   IsActiveMember   10000 non-null  int64  \n",
      " 9   EstimatedSalary  10000 non-null  float64\n",
      " 10  Exited           10000 non-null  int64  \n",
      "dtypes: float64(2), int64(7), object(2)\n",
      "memory usage: 859.5+ KB\n"
     ]
    }
   ],
   "source": [
    "ds.info()"
   ]
  },
  {
   "cell_type": "markdown",
   "metadata": {
    "id": "B8eWh6ox2MCp"
   },
   "source": [
    "### Distinguish the feature and target set"
   ]
  },
  {
   "cell_type": "code",
   "execution_count": null,
   "metadata": {
    "id": "gY_wiurk2MCq"
   },
   "outputs": [],
   "source": [
    "X = ds.iloc[:,0:10].values # Credit Score through Estimated Salary\n",
    "y = ds.iloc[:,10].values # Exited"
   ]
  },
  {
   "cell_type": "markdown",
   "metadata": {
    "id": "oHlmxWHUAoYf"
   },
   "source": [
    "### Encoding categorical (string based) data. Country: there are 3 options: France, Spain and Germany. This will convert those strings into scalar values for analysis."
   ]
  },
  {
   "cell_type": "code",
   "execution_count": null,
   "metadata": {
    "colab": {
     "base_uri": "https://localhost:8080/"
    },
    "id": "jOroI5WQ2MCu",
    "outputId": "4bf62e78-c17a-4c51-f1cf-4cad601b4ffa"
   },
   "outputs": [
    {
     "name": "stdout",
     "output_type": "stream",
     "text": [
      "['France' 'Spain' 'France' 'France' 'Spain' 'Spain' 'France' 'Germany'] ... will now become: \n",
      "[0 2 0 0 2 2 0 1]\n"
     ]
    }
   ],
   "source": [
    "from sklearn.preprocessing import LabelEncoder\n",
    "\n",
    "print(X[:8,1], '... will now become: ')\n",
    "\n",
    "label_X_country_encoder = LabelEncoder()\n",
    "X[:,1] = label_X_country_encoder.fit_transform(X[:,1])\n",
    "print(X[:8,1])"
   ]
  },
  {
   "cell_type": "markdown",
   "metadata": {
    "id": "VKStPf-YAoYj"
   },
   "source": [
    "### We will do the same thing for gender. this will be binary in this dataset"
   ]
  },
  {
   "cell_type": "code",
   "execution_count": null,
   "metadata": {
    "colab": {
     "base_uri": "https://localhost:8080/"
    },
    "id": "e-twfXkV2MCz",
    "outputId": "f1b0c5d3-4619-45d3-f1fb-2cdcc9aa8691"
   },
   "outputs": [
    {
     "name": "stdout",
     "output_type": "stream",
     "text": [
      "['Female' 'Female' 'Female' 'Female' 'Female' 'Male'] ... will now become: \n",
      "[0 0 0 0 0 1]\n"
     ]
    }
   ],
   "source": [
    "print(X[:6,2], '... will now become: ')\n",
    "\n",
    "label_X_gender_encoder = LabelEncoder()\n",
    "X[:,2] = label_X_gender_encoder.fit_transform(X[:,2])\n",
    "print(X[:6,2])"
   ]
  },
  {
   "cell_type": "markdown",
   "metadata": {
    "id": "gkPMURW4AoYn"
   },
   "source": [
    "### The Problem here is that we are treating the countries as one variable with ordinal values (0 < 1 < 2). Therefore, one way to get rid of that problem is to split the countries into respective dimensions. Gender does not need this as it is binary\n",
    "\n",
    "### Converting the string features into their own dimensions. Gender doesn't matter here because its binary"
   ]
  },
  {
   "cell_type": "code",
   "execution_count": null,
   "metadata": {
    "id": "h5xaQNH_2MC3"
   },
   "outputs": [],
   "source": [
    "from sklearn.compose import ColumnTransformer\n",
    "from sklearn.preprocessing import OneHotEncoder\n",
    "\n",
    "transform = ColumnTransformer([(\"countries\", OneHotEncoder(), [1])], remainder=\"passthrough\") # 1 is the country column\n",
    "X = transform.fit_transform(X)"
   ]
  },
  {
   "cell_type": "code",
   "execution_count": null,
   "metadata": {
    "colab": {
     "base_uri": "https://localhost:8080/"
    },
    "id": "wmwM4OOr2MC7",
    "outputId": "7bcbd83e-8a71-4241-e4ab-e1ba0925e0a8"
   },
   "outputs": [
    {
     "data": {
      "text/plain": [
       "(10000, 12)"
      ]
     },
     "execution_count": 15,
     "metadata": {
      "tags": []
     },
     "output_type": "execute_result"
    }
   ],
   "source": [
    "X.shape"
   ]
  },
  {
   "cell_type": "code",
   "execution_count": null,
   "metadata": {
    "colab": {
     "base_uri": "https://localhost:8080/"
    },
    "id": "gG4wSXrB2MDC",
    "outputId": "ddf1bae6-f06b-4141-b8dc-9b18de656eee"
   },
   "outputs": [
    {
     "data": {
      "text/plain": [
       "array([[1.0, 0.0, 0.0, ..., 1, 1, 101348.88],\n",
       "       [0.0, 0.0, 1.0, ..., 0, 1, 112542.58],\n",
       "       [1.0, 0.0, 0.0, ..., 1, 0, 113931.57],\n",
       "       ...,\n",
       "       [1.0, 0.0, 0.0, ..., 0, 1, 42085.58],\n",
       "       [0.0, 1.0, 0.0, ..., 1, 0, 92888.52],\n",
       "       [1.0, 0.0, 0.0, ..., 1, 0, 38190.78]], dtype=object)"
      ]
     },
     "execution_count": 16,
     "metadata": {
      "tags": []
     },
     "output_type": "execute_result"
    }
   ],
   "source": [
    "X"
   ]
  },
  {
   "cell_type": "code",
   "execution_count": null,
   "metadata": {
    "id": "26EuNLE62MDH"
   },
   "outputs": [],
   "source": [
    "# A 0 on two countries means that the country has to be the one variable which wasn't included \n",
    "# This will save us from the problem of using too many dimensions\n",
    "X = X[:,1:] # Got rid of Spain as a dimension."
   ]
  },
  {
   "cell_type": "markdown",
   "metadata": {
    "id": "5G-irNPm2MDL"
   },
   "source": [
    "### Divide the data set into Train and test sets"
   ]
  },
  {
   "cell_type": "code",
   "execution_count": null,
   "metadata": {
    "id": "G-JdmcgH2MDM"
   },
   "outputs": [],
   "source": [
    "from sklearn.model_selection import train_test_split\n",
    "\n",
    "# Splitting the dataset into the Training and Testing set\n",
    "X_train, X_test, y_train, y_test = train_test_split(X,y, test_size = 0.2, random_state = 0)"
   ]
  },
  {
   "cell_type": "markdown",
   "metadata": {
    "id": "v59orwv_2MDQ"
   },
   "source": [
    "### Normalize the train and test data"
   ]
  },
  {
   "cell_type": "code",
   "execution_count": null,
   "metadata": {
    "id": "8TqBQADf2MDR"
   },
   "outputs": [],
   "source": [
    "# Feature Scaling\n",
    "from sklearn.preprocessing import StandardScaler\n",
    "\n",
    "sc=StandardScaler()\n",
    "X_train = sc.fit_transform(X_train)\n",
    "X_test = sc.transform(X_test)"
   ]
  },
  {
   "cell_type": "markdown",
   "metadata": {
    "id": "h14ysgXo2MDU"
   },
   "source": [
    "### Initialize & build the model"
   ]
  },
  {
   "cell_type": "code",
   "execution_count": null,
   "metadata": {
    "id": "lMyjKipO2MDV"
   },
   "outputs": [],
   "source": [
    "from tensorflow.keras.models import Sequential\n",
    "\n",
    "# Initializing the ANN\n",
    "classifier = Sequential()"
   ]
  },
  {
   "cell_type": "code",
   "execution_count": null,
   "metadata": {
    "id": "O3ecignQ2MDX"
   },
   "outputs": [],
   "source": [
    "\n",
    "from tensorflow.keras.layers import Dense\n",
    "\n",
    "# The amount of nodes (dimensions) in hidden layer should be the average of input and output layers, in this case 6.\n",
    "# This adds the input layer (by specifying input dimension) AND the first hidden layer (units)\n",
    "classifier.add(Dense(activation = 'relu', input_dim = 11, units=6, kernel_initializer='uniform'))"
   ]
  },
  {
   "cell_type": "code",
   "execution_count": null,
   "metadata": {
    "id": "ov1vaKOW2MDa"
   },
   "outputs": [],
   "source": [
    "#Add 1st hidden layer\n",
    "classifier.add(Dense(6, activation='sigmoid', kernel_initializer='uniform'))"
   ]
  },
  {
   "cell_type": "code",
   "execution_count": null,
   "metadata": {
    "id": "Brkoooyr2MDd"
   },
   "outputs": [],
   "source": [
    "# Adding the output layer\n",
    "# Notice that we do not need to specify input dim. \n",
    "# we have an output of 1 node, which is the the desired dimensions of our output (stay with the bank or not)\n",
    "# We use the sigmoid because we want probability outcomes\n",
    "classifier.add(Dense(1, activation = 'sigmoid', kernel_initializer='uniform')) "
   ]
  },
  {
   "cell_type": "code",
   "execution_count": null,
   "metadata": {
    "id": "3IMvDnr92MDh"
   },
   "outputs": [],
   "source": [
    "# Create optimizer with default learning rate\n",
    "# sgd_optimizer = tf.keras.optimizers.SGD()\n",
    "# Compile the model\n",
    "classifier.compile(optimizer='SGD', loss='mse', metrics=['accuracy'])"
   ]
  },
  {
   "cell_type": "code",
   "execution_count": null,
   "metadata": {
    "colab": {
     "base_uri": "https://localhost:8080/"
    },
    "id": "E4UqHZj82MDj",
    "outputId": "071ed68c-e558-4c6d-f5e3-e9451bdedd99"
   },
   "outputs": [
    {
     "name": "stdout",
     "output_type": "stream",
     "text": [
      "Model: \"sequential\"\n",
      "_________________________________________________________________\n",
      "Layer (type)                 Output Shape              Param #   \n",
      "=================================================================\n",
      "dense (Dense)                (None, 6)                 72        \n",
      "_________________________________________________________________\n",
      "dense_1 (Dense)              (None, 6)                 42        \n",
      "_________________________________________________________________\n",
      "dense_2 (Dense)              (None, 1)                 7         \n",
      "=================================================================\n",
      "Total params: 121\n",
      "Trainable params: 121\n",
      "Non-trainable params: 0\n",
      "_________________________________________________________________\n"
     ]
    }
   ],
   "source": [
    "classifier.summary()"
   ]
  },
  {
   "cell_type": "code",
   "execution_count": null,
   "metadata": {
    "colab": {
     "base_uri": "https://localhost:8080/"
    },
    "id": "NErktj342MDo",
    "outputId": "bfc1d2eb-a7e6-4f18-e07b-3d501752d833"
   },
   "outputs": [
    {
     "name": "stdout",
     "output_type": "stream",
     "text": [
      "Epoch 1/100\n",
      "250/250 [==============================] - 0s 1ms/step - loss: 0.2066 - accuracy: 0.7960 - val_loss: 0.1819 - val_accuracy: 0.7975\n",
      "Epoch 2/100\n",
      "250/250 [==============================] - 0s 1ms/step - loss: 0.1741 - accuracy: 0.7960 - val_loss: 0.1681 - val_accuracy: 0.7975\n",
      "Epoch 3/100\n",
      "250/250 [==============================] - 0s 979us/step - loss: 0.1664 - accuracy: 0.7960 - val_loss: 0.1640 - val_accuracy: 0.7975\n",
      "Epoch 4/100\n",
      "250/250 [==============================] - 0s 983us/step - loss: 0.1640 - accuracy: 0.7960 - val_loss: 0.1626 - val_accuracy: 0.7975\n",
      "Epoch 5/100\n",
      "250/250 [==============================] - 0s 995us/step - loss: 0.1631 - accuracy: 0.7960 - val_loss: 0.1620 - val_accuracy: 0.7975\n",
      "Epoch 6/100\n",
      "250/250 [==============================] - 0s 989us/step - loss: 0.1627 - accuracy: 0.7960 - val_loss: 0.1618 - val_accuracy: 0.7975\n",
      "Epoch 7/100\n",
      "250/250 [==============================] - 0s 981us/step - loss: 0.1625 - accuracy: 0.7960 - val_loss: 0.1616 - val_accuracy: 0.7975\n",
      "Epoch 8/100\n",
      "250/250 [==============================] - 0s 978us/step - loss: 0.1625 - accuracy: 0.7960 - val_loss: 0.1616 - val_accuracy: 0.7975\n",
      "Epoch 9/100\n",
      "250/250 [==============================] - 0s 979us/step - loss: 0.1624 - accuracy: 0.7960 - val_loss: 0.1615 - val_accuracy: 0.7975\n",
      "Epoch 10/100\n",
      "250/250 [==============================] - 0s 984us/step - loss: 0.1624 - accuracy: 0.7960 - val_loss: 0.1615 - val_accuracy: 0.7975\n",
      "Epoch 11/100\n",
      "250/250 [==============================] - 0s 982us/step - loss: 0.1624 - accuracy: 0.7960 - val_loss: 0.1615 - val_accuracy: 0.7975\n",
      "Epoch 12/100\n",
      "250/250 [==============================] - 0s 953us/step - loss: 0.1624 - accuracy: 0.7960 - val_loss: 0.1615 - val_accuracy: 0.7975\n",
      "Epoch 13/100\n",
      "250/250 [==============================] - 0s 969us/step - loss: 0.1624 - accuracy: 0.7960 - val_loss: 0.1615 - val_accuracy: 0.7975\n",
      "Epoch 14/100\n",
      "250/250 [==============================] - 0s 1ms/step - loss: 0.1624 - accuracy: 0.7960 - val_loss: 0.1615 - val_accuracy: 0.7975\n",
      "Epoch 15/100\n",
      "250/250 [==============================] - 0s 997us/step - loss: 0.1624 - accuracy: 0.7960 - val_loss: 0.1615 - val_accuracy: 0.7975\n",
      "Epoch 16/100\n",
      "250/250 [==============================] - 0s 976us/step - loss: 0.1624 - accuracy: 0.7960 - val_loss: 0.1615 - val_accuracy: 0.7975\n",
      "Epoch 17/100\n",
      "250/250 [==============================] - 0s 980us/step - loss: 0.1624 - accuracy: 0.7960 - val_loss: 0.1615 - val_accuracy: 0.7975\n",
      "Epoch 18/100\n",
      "250/250 [==============================] - 0s 1ms/step - loss: 0.1624 - accuracy: 0.7960 - val_loss: 0.1615 - val_accuracy: 0.7975\n",
      "Epoch 19/100\n",
      "250/250 [==============================] - 0s 1ms/step - loss: 0.1624 - accuracy: 0.7960 - val_loss: 0.1615 - val_accuracy: 0.7975\n",
      "Epoch 20/100\n",
      "250/250 [==============================] - 0s 1ms/step - loss: 0.1624 - accuracy: 0.7960 - val_loss: 0.1615 - val_accuracy: 0.7975\n",
      "Epoch 21/100\n",
      "250/250 [==============================] - 0s 988us/step - loss: 0.1624 - accuracy: 0.7960 - val_loss: 0.1615 - val_accuracy: 0.7975\n",
      "Epoch 22/100\n",
      "250/250 [==============================] - 0s 1ms/step - loss: 0.1624 - accuracy: 0.7960 - val_loss: 0.1615 - val_accuracy: 0.7975\n",
      "Epoch 23/100\n",
      "250/250 [==============================] - 0s 960us/step - loss: 0.1624 - accuracy: 0.7960 - val_loss: 0.1615 - val_accuracy: 0.7975\n",
      "Epoch 24/100\n",
      "250/250 [==============================] - 0s 989us/step - loss: 0.1624 - accuracy: 0.7960 - val_loss: 0.1615 - val_accuracy: 0.7975\n",
      "Epoch 25/100\n",
      "250/250 [==============================] - 0s 969us/step - loss: 0.1624 - accuracy: 0.7960 - val_loss: 0.1615 - val_accuracy: 0.7975\n",
      "Epoch 26/100\n",
      "250/250 [==============================] - 0s 1ms/step - loss: 0.1624 - accuracy: 0.7960 - val_loss: 0.1615 - val_accuracy: 0.7975\n",
      "Epoch 27/100\n",
      "250/250 [==============================] - 0s 970us/step - loss: 0.1624 - accuracy: 0.7960 - val_loss: 0.1615 - val_accuracy: 0.7975\n",
      "Epoch 28/100\n",
      "250/250 [==============================] - 0s 963us/step - loss: 0.1624 - accuracy: 0.7960 - val_loss: 0.1615 - val_accuracy: 0.7975\n",
      "Epoch 29/100\n",
      "250/250 [==============================] - 0s 1ms/step - loss: 0.1624 - accuracy: 0.7960 - val_loss: 0.1615 - val_accuracy: 0.7975\n",
      "Epoch 30/100\n",
      "250/250 [==============================] - 0s 1ms/step - loss: 0.1624 - accuracy: 0.7960 - val_loss: 0.1615 - val_accuracy: 0.7975\n",
      "Epoch 31/100\n",
      "250/250 [==============================] - 0s 946us/step - loss: 0.1624 - accuracy: 0.7960 - val_loss: 0.1615 - val_accuracy: 0.7975\n",
      "Epoch 32/100\n",
      "250/250 [==============================] - 0s 973us/step - loss: 0.1624 - accuracy: 0.7960 - val_loss: 0.1615 - val_accuracy: 0.7975\n",
      "Epoch 33/100\n",
      "250/250 [==============================] - 0s 972us/step - loss: 0.1624 - accuracy: 0.7960 - val_loss: 0.1615 - val_accuracy: 0.7975\n",
      "Epoch 34/100\n",
      "250/250 [==============================] - 0s 990us/step - loss: 0.1624 - accuracy: 0.7960 - val_loss: 0.1615 - val_accuracy: 0.7975\n",
      "Epoch 35/100\n",
      "250/250 [==============================] - 0s 1ms/step - loss: 0.1624 - accuracy: 0.7960 - val_loss: 0.1615 - val_accuracy: 0.7975\n",
      "Epoch 36/100\n",
      "250/250 [==============================] - 0s 981us/step - loss: 0.1624 - accuracy: 0.7960 - val_loss: 0.1615 - val_accuracy: 0.7975\n",
      "Epoch 37/100\n",
      "250/250 [==============================] - 0s 1ms/step - loss: 0.1624 - accuracy: 0.7960 - val_loss: 0.1615 - val_accuracy: 0.7975\n",
      "Epoch 38/100\n",
      "250/250 [==============================] - 0s 998us/step - loss: 0.1624 - accuracy: 0.7960 - val_loss: 0.1615 - val_accuracy: 0.7975\n",
      "Epoch 39/100\n",
      "250/250 [==============================] - 0s 1ms/step - loss: 0.1624 - accuracy: 0.7960 - val_loss: 0.1615 - val_accuracy: 0.7975\n",
      "Epoch 40/100\n",
      "250/250 [==============================] - 0s 984us/step - loss: 0.1624 - accuracy: 0.7960 - val_loss: 0.1615 - val_accuracy: 0.7975\n",
      "Epoch 41/100\n",
      "250/250 [==============================] - 0s 1ms/step - loss: 0.1624 - accuracy: 0.7960 - val_loss: 0.1615 - val_accuracy: 0.7975\n",
      "Epoch 42/100\n",
      "250/250 [==============================] - 0s 1ms/step - loss: 0.1624 - accuracy: 0.7960 - val_loss: 0.1615 - val_accuracy: 0.7975\n",
      "Epoch 43/100\n",
      "250/250 [==============================] - 0s 947us/step - loss: 0.1624 - accuracy: 0.7960 - val_loss: 0.1615 - val_accuracy: 0.7975\n",
      "Epoch 44/100\n",
      "250/250 [==============================] - 0s 1ms/step - loss: 0.1624 - accuracy: 0.7960 - val_loss: 0.1615 - val_accuracy: 0.7975\n",
      "Epoch 45/100\n",
      "250/250 [==============================] - 0s 986us/step - loss: 0.1624 - accuracy: 0.7960 - val_loss: 0.1615 - val_accuracy: 0.7975\n",
      "Epoch 46/100\n",
      "250/250 [==============================] - 0s 1ms/step - loss: 0.1624 - accuracy: 0.7960 - val_loss: 0.1615 - val_accuracy: 0.7975\n",
      "Epoch 47/100\n",
      "250/250 [==============================] - 0s 982us/step - loss: 0.1624 - accuracy: 0.7960 - val_loss: 0.1615 - val_accuracy: 0.7975\n",
      "Epoch 48/100\n",
      "250/250 [==============================] - 0s 1ms/step - loss: 0.1624 - accuracy: 0.7960 - val_loss: 0.1615 - val_accuracy: 0.7975\n",
      "Epoch 49/100\n",
      "250/250 [==============================] - 0s 977us/step - loss: 0.1624 - accuracy: 0.7960 - val_loss: 0.1615 - val_accuracy: 0.7975\n",
      "Epoch 50/100\n",
      "250/250 [==============================] - 0s 1ms/step - loss: 0.1624 - accuracy: 0.7960 - val_loss: 0.1615 - val_accuracy: 0.7975\n",
      "Epoch 51/100\n",
      "250/250 [==============================] - 0s 1ms/step - loss: 0.1624 - accuracy: 0.7960 - val_loss: 0.1615 - val_accuracy: 0.7975\n",
      "Epoch 52/100\n",
      "250/250 [==============================] - 0s 980us/step - loss: 0.1624 - accuracy: 0.7960 - val_loss: 0.1615 - val_accuracy: 0.7975\n",
      "Epoch 53/100\n",
      "250/250 [==============================] - 0s 984us/step - loss: 0.1624 - accuracy: 0.7960 - val_loss: 0.1615 - val_accuracy: 0.7975\n",
      "Epoch 54/100\n",
      "250/250 [==============================] - 0s 1ms/step - loss: 0.1624 - accuracy: 0.7960 - val_loss: 0.1615 - val_accuracy: 0.7975\n",
      "Epoch 55/100\n",
      "250/250 [==============================] - 0s 1ms/step - loss: 0.1624 - accuracy: 0.7960 - val_loss: 0.1615 - val_accuracy: 0.7975\n",
      "Epoch 56/100\n",
      "250/250 [==============================] - 0s 1ms/step - loss: 0.1624 - accuracy: 0.7960 - val_loss: 0.1615 - val_accuracy: 0.7975\n",
      "Epoch 57/100\n",
      "250/250 [==============================] - 0s 993us/step - loss: 0.1624 - accuracy: 0.7960 - val_loss: 0.1615 - val_accuracy: 0.7975\n",
      "Epoch 58/100\n",
      "250/250 [==============================] - 0s 1ms/step - loss: 0.1624 - accuracy: 0.7960 - val_loss: 0.1615 - val_accuracy: 0.7975\n",
      "Epoch 59/100\n",
      "250/250 [==============================] - 0s 1ms/step - loss: 0.1624 - accuracy: 0.7960 - val_loss: 0.1615 - val_accuracy: 0.7975\n",
      "Epoch 60/100\n",
      "250/250 [==============================] - 0s 980us/step - loss: 0.1624 - accuracy: 0.7960 - val_loss: 0.1615 - val_accuracy: 0.7975\n",
      "Epoch 61/100\n",
      "250/250 [==============================] - 0s 1ms/step - loss: 0.1624 - accuracy: 0.7960 - val_loss: 0.1615 - val_accuracy: 0.7975\n",
      "Epoch 62/100\n",
      "250/250 [==============================] - 0s 1ms/step - loss: 0.1624 - accuracy: 0.7960 - val_loss: 0.1615 - val_accuracy: 0.7975\n",
      "Epoch 63/100\n",
      "250/250 [==============================] - 0s 1ms/step - loss: 0.1624 - accuracy: 0.7960 - val_loss: 0.1615 - val_accuracy: 0.7975\n",
      "Epoch 64/100\n",
      "250/250 [==============================] - 0s 1ms/step - loss: 0.1624 - accuracy: 0.7960 - val_loss: 0.1615 - val_accuracy: 0.7975\n",
      "Epoch 65/100\n",
      "250/250 [==============================] - 0s 1ms/step - loss: 0.1624 - accuracy: 0.7960 - val_loss: 0.1615 - val_accuracy: 0.7975\n",
      "Epoch 66/100\n",
      "250/250 [==============================] - 0s 1ms/step - loss: 0.1624 - accuracy: 0.7960 - val_loss: 0.1615 - val_accuracy: 0.7975\n",
      "Epoch 67/100\n",
      "250/250 [==============================] - 0s 980us/step - loss: 0.1624 - accuracy: 0.7960 - val_loss: 0.1615 - val_accuracy: 0.7975\n",
      "Epoch 68/100\n",
      "250/250 [==============================] - 0s 998us/step - loss: 0.1624 - accuracy: 0.7960 - val_loss: 0.1615 - val_accuracy: 0.7975\n",
      "Epoch 69/100\n",
      "250/250 [==============================] - 0s 1ms/step - loss: 0.1624 - accuracy: 0.7960 - val_loss: 0.1615 - val_accuracy: 0.7975\n",
      "Epoch 70/100\n",
      "250/250 [==============================] - 0s 968us/step - loss: 0.1624 - accuracy: 0.7960 - val_loss: 0.1615 - val_accuracy: 0.7975\n",
      "Epoch 71/100\n",
      "250/250 [==============================] - 0s 1ms/step - loss: 0.1624 - accuracy: 0.7960 - val_loss: 0.1615 - val_accuracy: 0.7975\n",
      "Epoch 72/100\n",
      "250/250 [==============================] - 0s 1ms/step - loss: 0.1624 - accuracy: 0.7960 - val_loss: 0.1615 - val_accuracy: 0.7975\n",
      "Epoch 73/100\n",
      "250/250 [==============================] - 0s 1ms/step - loss: 0.1624 - accuracy: 0.7960 - val_loss: 0.1615 - val_accuracy: 0.7975\n",
      "Epoch 74/100\n",
      "250/250 [==============================] - 0s 990us/step - loss: 0.1624 - accuracy: 0.7960 - val_loss: 0.1614 - val_accuracy: 0.7975\n",
      "Epoch 75/100\n",
      "250/250 [==============================] - 0s 1ms/step - loss: 0.1624 - accuracy: 0.7960 - val_loss: 0.1614 - val_accuracy: 0.7975\n",
      "Epoch 76/100\n",
      "250/250 [==============================] - 0s 1ms/step - loss: 0.1623 - accuracy: 0.7960 - val_loss: 0.1614 - val_accuracy: 0.7975\n",
      "Epoch 77/100\n",
      "250/250 [==============================] - 0s 1ms/step - loss: 0.1623 - accuracy: 0.7960 - val_loss: 0.1614 - val_accuracy: 0.7975\n",
      "Epoch 78/100\n",
      "250/250 [==============================] - 0s 984us/step - loss: 0.1623 - accuracy: 0.7960 - val_loss: 0.1614 - val_accuracy: 0.7975\n",
      "Epoch 79/100\n",
      "250/250 [==============================] - 0s 1ms/step - loss: 0.1623 - accuracy: 0.7960 - val_loss: 0.1614 - val_accuracy: 0.7975\n",
      "Epoch 80/100\n",
      "250/250 [==============================] - 0s 974us/step - loss: 0.1623 - accuracy: 0.7960 - val_loss: 0.1614 - val_accuracy: 0.7975\n",
      "Epoch 81/100\n",
      "250/250 [==============================] - 0s 1ms/step - loss: 0.1623 - accuracy: 0.7960 - val_loss: 0.1614 - val_accuracy: 0.7975\n",
      "Epoch 82/100\n",
      "250/250 [==============================] - 0s 1ms/step - loss: 0.1623 - accuracy: 0.7960 - val_loss: 0.1614 - val_accuracy: 0.7975\n",
      "Epoch 83/100\n",
      "250/250 [==============================] - 0s 1ms/step - loss: 0.1623 - accuracy: 0.7960 - val_loss: 0.1614 - val_accuracy: 0.7975\n",
      "Epoch 84/100\n",
      "250/250 [==============================] - 0s 998us/step - loss: 0.1623 - accuracy: 0.7960 - val_loss: 0.1614 - val_accuracy: 0.7975\n",
      "Epoch 85/100\n",
      "250/250 [==============================] - 0s 1ms/step - loss: 0.1623 - accuracy: 0.7960 - val_loss: 0.1614 - val_accuracy: 0.7975\n",
      "Epoch 86/100\n",
      "250/250 [==============================] - 0s 1ms/step - loss: 0.1623 - accuracy: 0.7960 - val_loss: 0.1614 - val_accuracy: 0.7975\n",
      "Epoch 87/100\n",
      "250/250 [==============================] - 0s 1ms/step - loss: 0.1623 - accuracy: 0.7960 - val_loss: 0.1614 - val_accuracy: 0.7975\n",
      "Epoch 88/100\n",
      "250/250 [==============================] - 0s 995us/step - loss: 0.1623 - accuracy: 0.7960 - val_loss: 0.1614 - val_accuracy: 0.7975\n",
      "Epoch 89/100\n",
      "250/250 [==============================] - 0s 1ms/step - loss: 0.1623 - accuracy: 0.7960 - val_loss: 0.1614 - val_accuracy: 0.7975\n",
      "Epoch 90/100\n",
      "250/250 [==============================] - 0s 1ms/step - loss: 0.1623 - accuracy: 0.7960 - val_loss: 0.1614 - val_accuracy: 0.7975\n",
      "Epoch 91/100\n",
      "250/250 [==============================] - 0s 1ms/step - loss: 0.1623 - accuracy: 0.7960 - val_loss: 0.1614 - val_accuracy: 0.7975\n",
      "Epoch 92/100\n",
      "250/250 [==============================] - 0s 1ms/step - loss: 0.1623 - accuracy: 0.7960 - val_loss: 0.1614 - val_accuracy: 0.7975\n",
      "Epoch 93/100\n",
      "250/250 [==============================] - 0s 1ms/step - loss: 0.1623 - accuracy: 0.7960 - val_loss: 0.1614 - val_accuracy: 0.7975\n",
      "Epoch 94/100\n",
      "250/250 [==============================] - 0s 1ms/step - loss: 0.1623 - accuracy: 0.7960 - val_loss: 0.1614 - val_accuracy: 0.7975\n",
      "Epoch 95/100\n",
      "250/250 [==============================] - 0s 1ms/step - loss: 0.1623 - accuracy: 0.7960 - val_loss: 0.1614 - val_accuracy: 0.7975\n",
      "Epoch 96/100\n",
      "250/250 [==============================] - 0s 1ms/step - loss: 0.1623 - accuracy: 0.7960 - val_loss: 0.1614 - val_accuracy: 0.7975\n",
      "Epoch 97/100\n",
      "250/250 [==============================] - 0s 1ms/step - loss: 0.1623 - accuracy: 0.7960 - val_loss: 0.1614 - val_accuracy: 0.7975\n",
      "Epoch 98/100\n",
      "250/250 [==============================] - 0s 998us/step - loss: 0.1623 - accuracy: 0.7960 - val_loss: 0.1614 - val_accuracy: 0.7975\n",
      "Epoch 99/100\n",
      "250/250 [==============================] - 0s 1ms/step - loss: 0.1623 - accuracy: 0.7960 - val_loss: 0.1614 - val_accuracy: 0.7975\n",
      "Epoch 100/100\n",
      "250/250 [==============================] - 0s 1ms/step - loss: 0.1623 - accuracy: 0.7960 - val_loss: 0.1614 - val_accuracy: 0.7975\n"
     ]
    },
    {
     "data": {
      "text/plain": [
       "<tensorflow.python.keras.callbacks.History at 0x7fcff40347b8>"
      ]
     },
     "execution_count": 27,
     "metadata": {
      "tags": []
     },
     "output_type": "execute_result"
    }
   ],
   "source": [
    "classifier.fit(X_train, y_train,           \n",
    "          validation_data=(X_test,y_test),\n",
    "          epochs=100,\n",
    "          batch_size=32)"
   ]
  },
  {
   "cell_type": "markdown",
   "metadata": {
    "id": "aXUi_lqe2MDs"
   },
   "source": [
    "### Predict the results using 0.5 as a threshold"
   ]
  },
  {
   "cell_type": "code",
   "execution_count": null,
   "metadata": {
    "colab": {
     "base_uri": "https://localhost:8080/"
    },
    "id": "GxXO6--h2MDt",
    "outputId": "6f9c1251-f56e-4171-a08b-cc803b904aec"
   },
   "outputs": [
    {
     "name": "stdout",
     "output_type": "stream",
     "text": [
      "[[0.20408505]\n",
      " [0.20437309]\n",
      " [0.20437112]\n",
      " ...\n",
      " [0.2038745 ]\n",
      " [0.20379704]\n",
      " [0.20420441]]\n"
     ]
    }
   ],
   "source": [
    "y_pred = classifier.predict(X_test)\n",
    "print(y_pred)"
   ]
  },
  {
   "cell_type": "code",
   "execution_count": null,
   "metadata": {
    "colab": {
     "base_uri": "https://localhost:8080/"
    },
    "id": "EIPDxM892MDw",
    "outputId": "661cd8d8-f0a1-469c-b684-e5a372a2ae0f"
   },
   "outputs": [
    {
     "name": "stdout",
     "output_type": "stream",
     "text": [
      "[[False]\n",
      " [False]\n",
      " [False]\n",
      " ...\n",
      " [False]\n",
      " [False]\n",
      " [False]]\n"
     ]
    }
   ],
   "source": [
    "# To use the confusion Matrix, we need to convert the probabilities that a customer will leave the bank into the form true or false. \n",
    "# So we will use the cutoff value 0.5 to indicate whether they are likely to exit or not.\n",
    "y_pred = (y_pred > 0.5)\n",
    "print(y_pred)"
   ]
  },
  {
   "cell_type": "markdown",
   "metadata": {
    "id": "VkX2OXIb2MD1"
   },
   "source": [
    "### Print the Accuracy score and confusion matrix"
   ]
  },
  {
   "cell_type": "code",
   "execution_count": null,
   "metadata": {
    "colab": {
     "base_uri": "https://localhost:8080/"
    },
    "id": "5Bx-Xgej2MD1",
    "outputId": "43496a64-0ec6-48dc-d0b3-c26984f422e0"
   },
   "outputs": [
    {
     "name": "stdout",
     "output_type": "stream",
     "text": [
      "[[1595    0]\n",
      " [ 405    0]]\n"
     ]
    }
   ],
   "source": [
    "from sklearn.metrics import confusion_matrix\n",
    "\n",
    "cm1 = confusion_matrix(y_test, y_pred)\n",
    "print(cm1)"
   ]
  },
  {
   "cell_type": "code",
   "execution_count": null,
   "metadata": {
    "colab": {
     "base_uri": "https://localhost:8080/"
    },
    "id": "1nwXHTVc2MD4",
    "outputId": "a8821552-903c-4340-c897-2d202b95157f"
   },
   "outputs": [
    {
     "name": "stdout",
     "output_type": "stream",
     "text": [
      "79.75 % of testing data was classified correctly\n"
     ]
    }
   ],
   "source": [
    "accuracy_model1 = ((cm1[0][0]+cm1[1][1])*100)/(cm1[0][0]+cm1[1][1]+cm1[0][1]+cm1[1][0])\n",
    "print (accuracy_model1, '% of testing data was classified correctly')"
   ]
  },
  {
   "cell_type": "markdown",
   "metadata": {
    "id": "ITHuG0BY2MD7"
   },
   "source": [
    "### Optimize the model"
   ]
  },
  {
   "cell_type": "markdown",
   "metadata": {
    "id": "ilZJGtVw2MD8"
   },
   "source": [
    "Some important parameters to look out for while optimizing neural networks are:\n",
    "\n",
    "-Type of architecture\n",
    "\n",
    "-Number of Layers\n",
    "\n",
    "-Number of Neurons in a layer\n",
    "\n",
    "-Regularization parameters\n",
    "\n",
    "-Learning Rate\n",
    "\n",
    "-Type of optimization / backpropagation technique to use\n",
    "\n",
    "-Dropout rate\n",
    "\n",
    "-Weight sharing"
   ]
  },
  {
   "cell_type": "markdown",
   "metadata": {
    "id": "NfcLaivq2MD9"
   },
   "source": [
    "#### Number of Layers:\n",
    "We will keep it similar to the above model so that we can compare the accuracy.\n",
    "1 hidden layer.\n",
    "\n",
    "#### Activation:\n",
    "input layer: relu becasue we are in an input layer. uses the ReLu activation function for  ϕ\n",
    "output layer: sigmoid becasue we are in an output layer. uses the Sigmoid activation function for  ϕ . This is used instead of the ReLu function becasue it generates probabilities for the outcome. We want the probability that each customer leaves the bank.\n",
    "\n",
    "#### Type of optimization / backpropagation technique to use: \n",
    "We will use Adam. Adam is a very efficeint variation of Stochastic Gradient Descent. For Adam and its variant, learning rate or the decay rate does not really matter too much.\n",
    "\n",
    "#### Learning Rate:\n",
    "default learning rate 0.001.\n",
    "\n",
    "#### Number of Neurons in a layer:\n",
    "We will keep it 6 as per our initial calculation above.\n",
    "\n",
    "#### Weight sharing / kernel_initializer: \n",
    "uniform the distribution with which we randomly initialize weights for the nodes in this layer.\n",
    "\n",
    "#### Loss:\n",
    "loss: binary_crossentropy This is the loss function used within adam. This should be the logarthmic loss. If our dependent (output variable) is Binary, it is binary_crossentropy. If Categorical, then it is called categorical_crossentropy\n",
    "\n",
    "### Rebuilding the model using these optimised parameters"
   ]
  },
  {
   "cell_type": "code",
   "execution_count": null,
   "metadata": {
    "id": "TYBOVfnW2MEB"
   },
   "outputs": [],
   "source": [
    "# Initializing the ANN\n",
    "classifier = Sequential()\n",
    "# This adds the input layer (by specifying input dimension) AND the first hidden layer (units)\n",
    "classifier.add(Dense(activation = 'relu', input_dim = 11, units=6, kernel_initializer='uniform'))"
   ]
  },
  {
   "cell_type": "code",
   "execution_count": null,
   "metadata": {
    "id": "1CAa_tm82MEF"
   },
   "outputs": [],
   "source": [
    "# Adding the hidden layer\n",
    "# Notice that we do not need to specify input dim. \n",
    "classifier.add(Dense(activation = 'relu', units=6, kernel_initializer='uniform')) "
   ]
  },
  {
   "cell_type": "code",
   "execution_count": null,
   "metadata": {
    "id": "AzZPPFIZ2MEI"
   },
   "outputs": [],
   "source": [
    "# Adding the output layer\n",
    "# Notice that we do not need to specify input dim. \n",
    "# we have an output of 1 node, which is the the desired dimensions of our output (stay with the bank or not)\n",
    "# We use the sigmoid because we want probability outcomes\n",
    "classifier.add(Dense(activation = 'sigmoid', units=1, kernel_initializer='uniform')) "
   ]
  },
  {
   "cell_type": "code",
   "execution_count": null,
   "metadata": {
    "id": "7PNJ1TPS2MEK"
   },
   "outputs": [],
   "source": [
    "classifier.compile(optimizer='adam', loss = 'binary_crossentropy', metrics=['accuracy'])"
   ]
  },
  {
   "cell_type": "code",
   "execution_count": null,
   "metadata": {
    "colab": {
     "base_uri": "https://localhost:8080/"
    },
    "id": "NbUkhk902MEM",
    "outputId": "fb648178-97b1-4745-b2c8-85d48fbd5287"
   },
   "outputs": [
    {
     "name": "stdout",
     "output_type": "stream",
     "text": [
      "Epoch 1/100\n",
      "250/250 [==============================] - 0s 1ms/step - loss: 0.6201 - accuracy: 0.7945 - val_loss: 0.5050 - val_accuracy: 0.7975\n",
      "Epoch 2/100\n",
      "250/250 [==============================] - 0s 1ms/step - loss: 0.4520 - accuracy: 0.7959 - val_loss: 0.4267 - val_accuracy: 0.7985\n",
      "Epoch 3/100\n",
      "250/250 [==============================] - 0s 1ms/step - loss: 0.4200 - accuracy: 0.8124 - val_loss: 0.4117 - val_accuracy: 0.8325\n",
      "Epoch 4/100\n",
      "250/250 [==============================] - 0s 1ms/step - loss: 0.4090 - accuracy: 0.8231 - val_loss: 0.4027 - val_accuracy: 0.8285\n",
      "Epoch 5/100\n",
      "250/250 [==============================] - 0s 1ms/step - loss: 0.4012 - accuracy: 0.8270 - val_loss: 0.3954 - val_accuracy: 0.8335\n",
      "Epoch 6/100\n",
      "250/250 [==============================] - 0s 1ms/step - loss: 0.3954 - accuracy: 0.8279 - val_loss: 0.3895 - val_accuracy: 0.8345\n",
      "Epoch 7/100\n",
      "250/250 [==============================] - 0s 1ms/step - loss: 0.3905 - accuracy: 0.8310 - val_loss: 0.3849 - val_accuracy: 0.8335\n",
      "Epoch 8/100\n",
      "250/250 [==============================] - 0s 1ms/step - loss: 0.3861 - accuracy: 0.8307 - val_loss: 0.3817 - val_accuracy: 0.8360\n",
      "Epoch 9/100\n",
      "250/250 [==============================] - 0s 1ms/step - loss: 0.3822 - accuracy: 0.8330 - val_loss: 0.3797 - val_accuracy: 0.8310\n",
      "Epoch 10/100\n",
      "250/250 [==============================] - 0s 1ms/step - loss: 0.3796 - accuracy: 0.8331 - val_loss: 0.3747 - val_accuracy: 0.8345\n",
      "Epoch 11/100\n",
      "250/250 [==============================] - 0s 1ms/step - loss: 0.3764 - accuracy: 0.8329 - val_loss: 0.3711 - val_accuracy: 0.8345\n",
      "Epoch 12/100\n",
      "250/250 [==============================] - 0s 1ms/step - loss: 0.3744 - accuracy: 0.8346 - val_loss: 0.3692 - val_accuracy: 0.8420\n",
      "Epoch 13/100\n",
      "250/250 [==============================] - 0s 1ms/step - loss: 0.3720 - accuracy: 0.8436 - val_loss: 0.3677 - val_accuracy: 0.8445\n",
      "Epoch 14/100\n",
      "250/250 [==============================] - 0s 1ms/step - loss: 0.3702 - accuracy: 0.8440 - val_loss: 0.3668 - val_accuracy: 0.8475\n",
      "Epoch 15/100\n",
      "250/250 [==============================] - 0s 1000us/step - loss: 0.3686 - accuracy: 0.8481 - val_loss: 0.3622 - val_accuracy: 0.8490\n",
      "Epoch 16/100\n",
      "250/250 [==============================] - 0s 1ms/step - loss: 0.3666 - accuracy: 0.8480 - val_loss: 0.3606 - val_accuracy: 0.8505\n",
      "Epoch 17/100\n",
      "250/250 [==============================] - 0s 1ms/step - loss: 0.3653 - accuracy: 0.8495 - val_loss: 0.3592 - val_accuracy: 0.8540\n",
      "Epoch 18/100\n",
      "250/250 [==============================] - 0s 1ms/step - loss: 0.3635 - accuracy: 0.8516 - val_loss: 0.3565 - val_accuracy: 0.8560\n",
      "Epoch 19/100\n",
      "250/250 [==============================] - 0s 1ms/step - loss: 0.3625 - accuracy: 0.8515 - val_loss: 0.3583 - val_accuracy: 0.8520\n",
      "Epoch 20/100\n",
      "250/250 [==============================] - 0s 1ms/step - loss: 0.3614 - accuracy: 0.8525 - val_loss: 0.3548 - val_accuracy: 0.8545\n",
      "Epoch 21/100\n",
      "250/250 [==============================] - 0s 1ms/step - loss: 0.3604 - accuracy: 0.8518 - val_loss: 0.3553 - val_accuracy: 0.8545\n",
      "Epoch 22/100\n",
      "250/250 [==============================] - 0s 1ms/step - loss: 0.3594 - accuracy: 0.8534 - val_loss: 0.3534 - val_accuracy: 0.8530\n",
      "Epoch 23/100\n",
      "250/250 [==============================] - 0s 1ms/step - loss: 0.3585 - accuracy: 0.8537 - val_loss: 0.3524 - val_accuracy: 0.8560\n",
      "Epoch 24/100\n",
      "250/250 [==============================] - 0s 1ms/step - loss: 0.3575 - accuracy: 0.8533 - val_loss: 0.3515 - val_accuracy: 0.8550\n",
      "Epoch 25/100\n",
      "250/250 [==============================] - 0s 1ms/step - loss: 0.3569 - accuracy: 0.8540 - val_loss: 0.3506 - val_accuracy: 0.8540\n",
      "Epoch 26/100\n",
      "250/250 [==============================] - 0s 1ms/step - loss: 0.3562 - accuracy: 0.8522 - val_loss: 0.3507 - val_accuracy: 0.8565\n",
      "Epoch 27/100\n",
      "250/250 [==============================] - 0s 1ms/step - loss: 0.3551 - accuracy: 0.8533 - val_loss: 0.3529 - val_accuracy: 0.8525\n",
      "Epoch 28/100\n",
      "250/250 [==============================] - 0s 1ms/step - loss: 0.3550 - accuracy: 0.8546 - val_loss: 0.3484 - val_accuracy: 0.8550\n",
      "Epoch 29/100\n",
      "250/250 [==============================] - 0s 1ms/step - loss: 0.3539 - accuracy: 0.8537 - val_loss: 0.3473 - val_accuracy: 0.8585\n",
      "Epoch 30/100\n",
      "250/250 [==============================] - 0s 1ms/step - loss: 0.3533 - accuracy: 0.8549 - val_loss: 0.3468 - val_accuracy: 0.8570\n",
      "Epoch 31/100\n",
      "250/250 [==============================] - 0s 1ms/step - loss: 0.3531 - accuracy: 0.8545 - val_loss: 0.3492 - val_accuracy: 0.8570\n",
      "Epoch 32/100\n",
      "250/250 [==============================] - 0s 1ms/step - loss: 0.3521 - accuracy: 0.8550 - val_loss: 0.3465 - val_accuracy: 0.8615\n",
      "Epoch 33/100\n",
      "250/250 [==============================] - 0s 1ms/step - loss: 0.3517 - accuracy: 0.8564 - val_loss: 0.3457 - val_accuracy: 0.8580\n",
      "Epoch 34/100\n",
      "250/250 [==============================] - 0s 1ms/step - loss: 0.3511 - accuracy: 0.8543 - val_loss: 0.3456 - val_accuracy: 0.8605\n",
      "Epoch 35/100\n",
      "250/250 [==============================] - 0s 1ms/step - loss: 0.3510 - accuracy: 0.8561 - val_loss: 0.3452 - val_accuracy: 0.8580\n",
      "Epoch 36/100\n",
      "250/250 [==============================] - 0s 1ms/step - loss: 0.3502 - accuracy: 0.8544 - val_loss: 0.3466 - val_accuracy: 0.8545\n",
      "Epoch 37/100\n",
      "250/250 [==============================] - 0s 1ms/step - loss: 0.3499 - accuracy: 0.8593 - val_loss: 0.3426 - val_accuracy: 0.8570\n",
      "Epoch 38/100\n",
      "250/250 [==============================] - 0s 1ms/step - loss: 0.3494 - accuracy: 0.8568 - val_loss: 0.3462 - val_accuracy: 0.8555\n",
      "Epoch 39/100\n",
      "250/250 [==============================] - 0s 1ms/step - loss: 0.3490 - accuracy: 0.8565 - val_loss: 0.3424 - val_accuracy: 0.8575\n",
      "Epoch 40/100\n",
      "250/250 [==============================] - 0s 1ms/step - loss: 0.3490 - accuracy: 0.8575 - val_loss: 0.3460 - val_accuracy: 0.8555\n",
      "Epoch 41/100\n",
      "250/250 [==============================] - 0s 1ms/step - loss: 0.3487 - accuracy: 0.8564 - val_loss: 0.3437 - val_accuracy: 0.8580\n",
      "Epoch 42/100\n",
      "250/250 [==============================] - 0s 1ms/step - loss: 0.3485 - accuracy: 0.8572 - val_loss: 0.3434 - val_accuracy: 0.8560\n",
      "Epoch 43/100\n",
      "250/250 [==============================] - 0s 1ms/step - loss: 0.3479 - accuracy: 0.8577 - val_loss: 0.3416 - val_accuracy: 0.8585\n",
      "Epoch 44/100\n",
      "250/250 [==============================] - 0s 1ms/step - loss: 0.3488 - accuracy: 0.8584 - val_loss: 0.3417 - val_accuracy: 0.8570\n",
      "Epoch 45/100\n",
      "250/250 [==============================] - 0s 1ms/step - loss: 0.3473 - accuracy: 0.8577 - val_loss: 0.3445 - val_accuracy: 0.8545\n",
      "Epoch 46/100\n",
      "250/250 [==============================] - 0s 1ms/step - loss: 0.3475 - accuracy: 0.8586 - val_loss: 0.3436 - val_accuracy: 0.8585\n",
      "Epoch 47/100\n",
      "250/250 [==============================] - 0s 1ms/step - loss: 0.3470 - accuracy: 0.8575 - val_loss: 0.3446 - val_accuracy: 0.8550\n",
      "Epoch 48/100\n",
      "250/250 [==============================] - 0s 1ms/step - loss: 0.3474 - accuracy: 0.8581 - val_loss: 0.3424 - val_accuracy: 0.8540\n",
      "Epoch 49/100\n",
      "250/250 [==============================] - 0s 1ms/step - loss: 0.3468 - accuracy: 0.8569 - val_loss: 0.3421 - val_accuracy: 0.8570\n",
      "Epoch 50/100\n",
      "250/250 [==============================] - 0s 1ms/step - loss: 0.3461 - accuracy: 0.8605 - val_loss: 0.3429 - val_accuracy: 0.8580\n",
      "Epoch 51/100\n",
      "250/250 [==============================] - 0s 1ms/step - loss: 0.3459 - accuracy: 0.8581 - val_loss: 0.3449 - val_accuracy: 0.8565\n",
      "Epoch 52/100\n",
      "250/250 [==============================] - 0s 1ms/step - loss: 0.3457 - accuracy: 0.8594 - val_loss: 0.3405 - val_accuracy: 0.8595\n",
      "Epoch 53/100\n",
      "250/250 [==============================] - 0s 1ms/step - loss: 0.3454 - accuracy: 0.8580 - val_loss: 0.3457 - val_accuracy: 0.8585\n",
      "Epoch 54/100\n",
      "250/250 [==============================] - 0s 1ms/step - loss: 0.3455 - accuracy: 0.8587 - val_loss: 0.3409 - val_accuracy: 0.8565\n",
      "Epoch 55/100\n",
      "250/250 [==============================] - 0s 1ms/step - loss: 0.3450 - accuracy: 0.8594 - val_loss: 0.3406 - val_accuracy: 0.8585\n",
      "Epoch 56/100\n",
      "250/250 [==============================] - 0s 1ms/step - loss: 0.3450 - accuracy: 0.8599 - val_loss: 0.3413 - val_accuracy: 0.8565\n",
      "Epoch 57/100\n",
      "250/250 [==============================] - 0s 1ms/step - loss: 0.3450 - accuracy: 0.8599 - val_loss: 0.3404 - val_accuracy: 0.8580\n",
      "Epoch 58/100\n",
      "250/250 [==============================] - 0s 1ms/step - loss: 0.3447 - accuracy: 0.8596 - val_loss: 0.3411 - val_accuracy: 0.8570\n",
      "Epoch 59/100\n",
      "250/250 [==============================] - 0s 1ms/step - loss: 0.3447 - accuracy: 0.8585 - val_loss: 0.3390 - val_accuracy: 0.8585\n",
      "Epoch 60/100\n",
      "250/250 [==============================] - 0s 1ms/step - loss: 0.3440 - accuracy: 0.8597 - val_loss: 0.3416 - val_accuracy: 0.8590\n",
      "Epoch 61/100\n",
      "250/250 [==============================] - 0s 1ms/step - loss: 0.3445 - accuracy: 0.8600 - val_loss: 0.3406 - val_accuracy: 0.8590\n",
      "Epoch 62/100\n",
      "250/250 [==============================] - 0s 1ms/step - loss: 0.3435 - accuracy: 0.8606 - val_loss: 0.3391 - val_accuracy: 0.8615\n",
      "Epoch 63/100\n",
      "250/250 [==============================] - 0s 1ms/step - loss: 0.3441 - accuracy: 0.8585 - val_loss: 0.3415 - val_accuracy: 0.8565\n",
      "Epoch 64/100\n",
      "250/250 [==============================] - 0s 1ms/step - loss: 0.3437 - accuracy: 0.8590 - val_loss: 0.3396 - val_accuracy: 0.8585\n",
      "Epoch 65/100\n",
      "250/250 [==============================] - 0s 1ms/step - loss: 0.3434 - accuracy: 0.8577 - val_loss: 0.3405 - val_accuracy: 0.8630\n",
      "Epoch 66/100\n",
      "250/250 [==============================] - 0s 1ms/step - loss: 0.3432 - accuracy: 0.8614 - val_loss: 0.3379 - val_accuracy: 0.8585\n",
      "Epoch 67/100\n",
      "250/250 [==============================] - 0s 1ms/step - loss: 0.3428 - accuracy: 0.8587 - val_loss: 0.3409 - val_accuracy: 0.8570\n",
      "Epoch 68/100\n",
      "250/250 [==============================] - 0s 1ms/step - loss: 0.3426 - accuracy: 0.8622 - val_loss: 0.3412 - val_accuracy: 0.8585\n",
      "Epoch 69/100\n",
      "250/250 [==============================] - 0s 1ms/step - loss: 0.3420 - accuracy: 0.8596 - val_loss: 0.3377 - val_accuracy: 0.8640\n",
      "Epoch 70/100\n",
      "250/250 [==============================] - 0s 1ms/step - loss: 0.3425 - accuracy: 0.8604 - val_loss: 0.3376 - val_accuracy: 0.8625\n",
      "Epoch 71/100\n",
      "250/250 [==============================] - 0s 1ms/step - loss: 0.3427 - accuracy: 0.8605 - val_loss: 0.3387 - val_accuracy: 0.8615\n",
      "Epoch 72/100\n",
      "250/250 [==============================] - 0s 1ms/step - loss: 0.3421 - accuracy: 0.8605 - val_loss: 0.3384 - val_accuracy: 0.8605\n",
      "Epoch 73/100\n",
      "250/250 [==============================] - 0s 1ms/step - loss: 0.3410 - accuracy: 0.8599 - val_loss: 0.3432 - val_accuracy: 0.8570\n",
      "Epoch 74/100\n",
      "250/250 [==============================] - 0s 1ms/step - loss: 0.3411 - accuracy: 0.8604 - val_loss: 0.3371 - val_accuracy: 0.8620\n",
      "Epoch 75/100\n",
      "250/250 [==============================] - 0s 1ms/step - loss: 0.3419 - accuracy: 0.8596 - val_loss: 0.3380 - val_accuracy: 0.8590\n",
      "Epoch 76/100\n",
      "250/250 [==============================] - 0s 1ms/step - loss: 0.3409 - accuracy: 0.8610 - val_loss: 0.3410 - val_accuracy: 0.8600\n",
      "Epoch 77/100\n",
      "250/250 [==============================] - 0s 1ms/step - loss: 0.3405 - accuracy: 0.8610 - val_loss: 0.3369 - val_accuracy: 0.8595\n",
      "Epoch 78/100\n",
      "250/250 [==============================] - 0s 1ms/step - loss: 0.3406 - accuracy: 0.8597 - val_loss: 0.3361 - val_accuracy: 0.8590\n",
      "Epoch 79/100\n",
      "250/250 [==============================] - 0s 1ms/step - loss: 0.3403 - accuracy: 0.8612 - val_loss: 0.3377 - val_accuracy: 0.8565\n",
      "Epoch 80/100\n",
      "250/250 [==============================] - 0s 1ms/step - loss: 0.3401 - accuracy: 0.8599 - val_loss: 0.3392 - val_accuracy: 0.8580\n",
      "Epoch 81/100\n",
      "250/250 [==============================] - 0s 1ms/step - loss: 0.3408 - accuracy: 0.8615 - val_loss: 0.3385 - val_accuracy: 0.8585\n",
      "Epoch 82/100\n",
      "250/250 [==============================] - 0s 1ms/step - loss: 0.3401 - accuracy: 0.8606 - val_loss: 0.3415 - val_accuracy: 0.8635\n",
      "Epoch 83/100\n",
      "250/250 [==============================] - 0s 1ms/step - loss: 0.3400 - accuracy: 0.8624 - val_loss: 0.3394 - val_accuracy: 0.8610\n",
      "Epoch 84/100\n",
      "250/250 [==============================] - 0s 1ms/step - loss: 0.3398 - accuracy: 0.8608 - val_loss: 0.3381 - val_accuracy: 0.8605\n",
      "Epoch 85/100\n",
      "250/250 [==============================] - 0s 1ms/step - loss: 0.3388 - accuracy: 0.8624 - val_loss: 0.3390 - val_accuracy: 0.8630\n",
      "Epoch 86/100\n",
      "250/250 [==============================] - 0s 1ms/step - loss: 0.3398 - accuracy: 0.8622 - val_loss: 0.3400 - val_accuracy: 0.8615\n",
      "Epoch 87/100\n",
      "250/250 [==============================] - 0s 1ms/step - loss: 0.3396 - accuracy: 0.8593 - val_loss: 0.3415 - val_accuracy: 0.8580\n",
      "Epoch 88/100\n",
      "250/250 [==============================] - 0s 1ms/step - loss: 0.3385 - accuracy: 0.8606 - val_loss: 0.3400 - val_accuracy: 0.8565\n",
      "Epoch 89/100\n",
      "250/250 [==============================] - 0s 1ms/step - loss: 0.3385 - accuracy: 0.8605 - val_loss: 0.3461 - val_accuracy: 0.8550\n",
      "Epoch 90/100\n",
      "250/250 [==============================] - 0s 1ms/step - loss: 0.3393 - accuracy: 0.8609 - val_loss: 0.3429 - val_accuracy: 0.8580\n",
      "Epoch 91/100\n",
      "250/250 [==============================] - 0s 1ms/step - loss: 0.3384 - accuracy: 0.8626 - val_loss: 0.3399 - val_accuracy: 0.8615\n",
      "Epoch 92/100\n",
      "250/250 [==============================] - 0s 1ms/step - loss: 0.3383 - accuracy: 0.8620 - val_loss: 0.3367 - val_accuracy: 0.8615\n",
      "Epoch 93/100\n",
      "250/250 [==============================] - 0s 1ms/step - loss: 0.3387 - accuracy: 0.8635 - val_loss: 0.3386 - val_accuracy: 0.8605\n",
      "Epoch 94/100\n",
      "250/250 [==============================] - 0s 1ms/step - loss: 0.3377 - accuracy: 0.8618 - val_loss: 0.3405 - val_accuracy: 0.8565\n",
      "Epoch 95/100\n",
      "250/250 [==============================] - 0s 1ms/step - loss: 0.3375 - accuracy: 0.8622 - val_loss: 0.3383 - val_accuracy: 0.8605\n",
      "Epoch 96/100\n",
      "250/250 [==============================] - 0s 1ms/step - loss: 0.3373 - accuracy: 0.8602 - val_loss: 0.3400 - val_accuracy: 0.8660\n",
      "Epoch 97/100\n",
      "250/250 [==============================] - 0s 1ms/step - loss: 0.3372 - accuracy: 0.8634 - val_loss: 0.3375 - val_accuracy: 0.8630\n",
      "Epoch 98/100\n",
      "250/250 [==============================] - 0s 1ms/step - loss: 0.3378 - accuracy: 0.8616 - val_loss: 0.3356 - val_accuracy: 0.8600\n",
      "Epoch 99/100\n",
      "250/250 [==============================] - 0s 1ms/step - loss: 0.3372 - accuracy: 0.8625 - val_loss: 0.3405 - val_accuracy: 0.8565\n",
      "Epoch 100/100\n",
      "250/250 [==============================] - 0s 1ms/step - loss: 0.3370 - accuracy: 0.8626 - val_loss: 0.3363 - val_accuracy: 0.8610\n"
     ]
    },
    {
     "data": {
      "text/plain": [
       "<tensorflow.python.keras.callbacks.History at 0x7fcff08abcf8>"
      ]
     },
     "execution_count": 37,
     "metadata": {
      "tags": []
     },
     "output_type": "execute_result"
    }
   ],
   "source": [
    "classifier.fit(X_train, y_train,           \n",
    "          validation_data=(X_test,y_test),\n",
    "          epochs=100,\n",
    "          batch_size=32)"
   ]
  },
  {
   "cell_type": "markdown",
   "metadata": {
    "id": "qbkNCKVX2MEP"
   },
   "source": [
    "### Predict the results using 0.5 as a threshold"
   ]
  },
  {
   "cell_type": "code",
   "execution_count": null,
   "metadata": {
    "colab": {
     "base_uri": "https://localhost:8080/"
    },
    "id": "qwMd3oJO2MEQ",
    "outputId": "fabe11de-ffb8-406d-b2c8-9a1ceb44b486"
   },
   "outputs": [
    {
     "name": "stdout",
     "output_type": "stream",
     "text": [
      "[[0.25750184]\n",
      " [0.36785206]\n",
      " [0.22174105]\n",
      " ...\n",
      " [0.22687352]\n",
      " [0.1534543 ]\n",
      " [0.28107512]]\n"
     ]
    }
   ],
   "source": [
    "y_pred = classifier.predict(X_test)\n",
    "print(y_pred)"
   ]
  },
  {
   "cell_type": "code",
   "execution_count": null,
   "metadata": {
    "colab": {
     "base_uri": "https://localhost:8080/"
    },
    "id": "ppMSEGmq2MET",
    "outputId": "9736aaea-b229-4c4c-9146-a8a027bd6530"
   },
   "outputs": [
    {
     "name": "stdout",
     "output_type": "stream",
     "text": [
      "[[False]\n",
      " [False]\n",
      " [False]\n",
      " ...\n",
      " [False]\n",
      " [False]\n",
      " [False]]\n"
     ]
    }
   ],
   "source": [
    "# To use the confusion Matrix, we need to convert the probabilities that a customer will leave the bank into the form true or false. \n",
    "# So we will use the cutoff value 0.5 to indicate whether they are likely to exit or not.\n",
    "y_pred = (y_pred > 0.5)\n",
    "print(y_pred)"
   ]
  },
  {
   "cell_type": "markdown",
   "metadata": {
    "id": "c1jh390C2MEW"
   },
   "source": [
    "### Print the Accuracy score and confusion matrix"
   ]
  },
  {
   "cell_type": "code",
   "execution_count": null,
   "metadata": {
    "colab": {
     "base_uri": "https://localhost:8080/"
    },
    "id": "3w6XYuiN2MEX",
    "outputId": "40868fb5-a3be-47ce-875e-86109bac629c"
   },
   "outputs": [
    {
     "name": "stdout",
     "output_type": "stream",
     "text": [
      "[[1516   79]\n",
      " [ 199  206]]\n"
     ]
    }
   ],
   "source": [
    "cm2 = confusion_matrix(y_test, y_pred)\n",
    "print(cm2)"
   ]
  },
  {
   "cell_type": "code",
   "execution_count": null,
   "metadata": {
    "colab": {
     "base_uri": "https://localhost:8080/"
    },
    "id": "lOklmKrD2MEf",
    "outputId": "8613fbfb-d237-4b7b-a000-61e40aaae072"
   },
   "outputs": [
    {
     "name": "stdout",
     "output_type": "stream",
     "text": [
      "86.1 % of testing data was classified correctly\n"
     ]
    }
   ],
   "source": [
    "accuracy_model2 = ((cm2[0][0]+cm2[1][1])*100)/(cm2[0][0]+cm2[1][1]+cm2[0][1]+cm2[1][0])\n",
    "print (accuracy_model2, '% of testing data was classified correctly')"
   ]
  },
  {
   "cell_type": "markdown",
   "metadata": {
    "id": "LiVey_K1zcbd"
   },
   "source": [
    "<img src=\"http://drive.google.com/uc?export=view&id=1tpOCamr9aWz817atPnyXus8w5gJ3mIts\" width=500px>\n",
    "\n",
    "Proprietary content. © Great Learning. All Rights Reserved. Unauthorized use or distribution prohibited."
   ]
  }
 ],
 "metadata": {
  "colab": {
   "collapsed_sections": [],
   "name": "Notebook - Week 1 - Mentor Case Study - Neural Networks - JPMC.ipynb",
   "provenance": [],
   "toc_visible": true
  },
  "kernelspec": {
   "display_name": "Python 3",
   "language": "python",
   "name": "python3"
  },
  "language_info": {
   "codemirror_mode": {
    "name": "ipython",
    "version": 3
   },
   "file_extension": ".py",
   "mimetype": "text/x-python",
   "name": "python",
   "nbconvert_exporter": "python",
   "pygments_lexer": "ipython3",
   "version": "3.7.2"
  }
 },
 "nbformat": 4,
 "nbformat_minor": 1
}
